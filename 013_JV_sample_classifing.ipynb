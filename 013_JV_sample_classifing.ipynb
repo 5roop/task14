{
 "cells": [
  {
   "cell_type": "code",
   "execution_count": 23,
   "metadata": {},
   "outputs": [
    {
     "name": "stderr",
     "output_type": "stream",
     "text": [
      "Using custom data configuration default-a049b577afd4d7d8\n"
     ]
    },
    {
     "name": "stdout",
     "output_type": "stream",
     "text": [
      "Downloading and preparing dataset csv/default to /home/peterr/.cache/huggingface/datasets/csv/default-a049b577afd4d7d8/0.0.0/433e0ccc46f9880962cc2b12065189766fbb2bee57a221866138fb9203c83519...\n"
     ]
    },
    {
     "data": {
      "application/vnd.jupyter.widget-view+json": {
       "model_id": "508d8161dc454567b162aae1b6fba948",
       "version_major": 2,
       "version_minor": 0
      },
      "text/plain": [
       "  0%|          | 0/1 [00:00<?, ?it/s]"
      ]
     },
     "metadata": {},
     "output_type": "display_data"
    },
    {
     "data": {
      "application/vnd.jupyter.widget-view+json": {
       "model_id": "aaa7fd1d10174021a7d6b92e09debf1c",
       "version_major": 2,
       "version_minor": 0
      },
      "text/plain": [
       "  0%|          | 0/1 [00:00<?, ?it/s]"
      ]
     },
     "metadata": {},
     "output_type": "display_data"
    },
    {
     "name": "stdout",
     "output_type": "stream",
     "text": [
      "Dataset csv downloaded and prepared to /home/peterr/.cache/huggingface/datasets/csv/default-a049b577afd4d7d8/0.0.0/433e0ccc46f9880962cc2b12065189766fbb2bee57a221866138fb9203c83519. Subsequent calls will reuse this data.\n"
     ]
    },
    {
     "data": {
      "application/vnd.jupyter.widget-view+json": {
       "model_id": "1d461dbe6b7546bfb6d3c7bc2ff5cfdf",
       "version_major": 2,
       "version_minor": 0
      },
      "text/plain": [
       "  0%|          | 0/1 [00:00<?, ?it/s]"
      ]
     },
     "metadata": {},
     "output_type": "display_data"
    },
    {
     "name": "stderr",
     "output_type": "stream",
     "text": [
      "Special tokens have been added in the vocabulary, make sure the associated word embeddings are fine-tuned or trained.\n"
     ]
    },
    {
     "data": {
      "application/vnd.jupyter.widget-view+json": {
       "model_id": "351b09047dd84e85b66c82598d435658",
       "version_major": 2,
       "version_minor": 0
      },
      "text/plain": [
       "0ex [00:00, ?ex/s]"
      ]
     },
     "metadata": {},
     "output_type": "display_data"
    },
    {
     "data": {
      "application/vnd.jupyter.widget-view+json": {
       "model_id": "9c42bb894c204a5bbc7ee4020c023d5c",
       "version_major": 2,
       "version_minor": 0
      },
      "text/plain": [
       "  0%|          | 0/246 [00:00<?, ?ba/s]"
      ]
     },
     "metadata": {},
     "output_type": "display_data"
    },
    {
     "data": {
      "text/plain": [
       "neutral      481\n",
       "anger          8\n",
       "happiness      1\n",
       "sadness        1\n",
       "dtype: int64"
      ]
     },
     "execution_count": 23,
     "metadata": {},
     "output_type": "execute_result"
    }
   ],
   "source": [
    "from pathlib import Path\n",
    "\n",
    "paths = list(Path(\"./JVsample/\").glob(\"*.wav\"))\n",
    "import pandas as pd\n",
    "pd.DataFrame(data={\"path\": [str(p) for p in paths],\n",
    "                   \"target\": [\"sadness\" for p in paths]}\n",
    "             ).to_csv(\"013_jvs.csv\")\n",
    "    \n",
    "    \n",
    "checkpoints = [\n",
    "    # \"facebook/wav2vec2-large-slavic-voxpopuli-v2\",\n",
    "    # \"facebook/wav2vec2-large-960h-lv60-self\",\n",
    "    \"classla/wav2vec2-large-slavic-parlaspeech-hr\",\n",
    "]\n",
    "optimal_epochs = {\n",
    "    \"facebook/wav2vec2-large-960h-lv60-self\": 9,\n",
    "    \"facebook/wav2vec2-large-slavic-voxpopuli-v2\": 11,\n",
    "    \"classla/wav2vec2-large-slavic-parlaspeech-hr\": 7,  \n",
    "}\n",
    "import os\n",
    "# os.system(\"rm -r models/*\")\n",
    "from utils import train_model, eval_model\n",
    "\n",
    "checkpoint = \"/home/peterr/macocu/task14/models/classla_wav2vec2-large-slavic-parlaspeech-hr_best_model_finding_2_/classla_wav2vec2-large-slavic-parlaspeech-hr_best_model_finding_2_/checkpoint-1225/\"\n",
    "\n",
    "example_eval_config = {\n",
    "    \"output_column\": \"target\",\n",
    "    \"model_name_or_path\":  checkpoint,\n",
    "    \"eval_file\": \"013_jvs.csv\"\n",
    "}\n",
    "\n",
    "y_true, y_pred = eval_model(example_eval_config)\n",
    "\n",
    "pd.Series(y_pred).value_counts()"
   ]
  },
  {
   "cell_type": "code",
   "execution_count": 28,
   "metadata": {},
   "outputs": [
    {
     "data": {
      "text/plain": [
       "66       JVsample/TY4ckrzw8J0__466.6__490.7__.wav\n",
       "93       JVsample/KJ1Yz3s8tMI__525.9__543.3__.wav\n",
       "107      JVsample/9raKchKhH2k__928.5__946.1__.wav\n",
       "118      JVsample/10IXdfbTA1k__379.3__398.4__.wav\n",
       "122      JVsample/O3Q4wXUmkE8__288.0__293.8__.wav\n",
       "241      JVsample/oN9ANtPWBm8__114.3__131.1__.wav\n",
       "269      JVsample/ha6JJW2FCbc__563.5__571.2__.wav\n",
       "321      JVsample/n4OsWcbu4zk__516.3__529.6__.wav\n",
       "342    JVsample/ha6JJW2FCbc__1023.0__1046.8__.wav\n",
       "448      JVsample/_ln8wv4k5OA__441.6__452.8__.wav\n",
       "Name: path, dtype: object"
      ]
     },
     "execution_count": 28,
     "metadata": {},
     "output_type": "execute_result"
    }
   ],
   "source": [
    "results = pd.DataFrame(data={\"path\": [str(p) for p in paths],\n",
    "                   \"target\": [\"sadness\" for p in paths],\n",
    "                   \"y_pred\": y_pred}\n",
    "             )\n",
    "nonneutral_files = results.iloc[[i != \"neutral\" for i in y_pred], 0]\n",
    "nonneutral_files"
   ]
  },
  {
   "cell_type": "code",
   "execution_count": 29,
   "metadata": {},
   "outputs": [
    {
     "name": "stdout",
     "output_type": "stream",
     "text": [
      "mkdir: cannot create directory ‘nonneutral_jvs’: File exists\n"
     ]
    }
   ],
   "source": [
    "!mkdir nonneutral_jvs\n",
    "import shutil\n",
    "for i in _:\n",
    "    shutil.copy(Path(i).__str__(), \"nonneutral_jvs/\"+str(Path(i).name))"
   ]
  },
  {
   "cell_type": "code",
   "execution_count": 31,
   "metadata": {},
   "outputs": [
    {
     "data": {
      "text/html": [
       "<div>\n",
       "<style scoped>\n",
       "    .dataframe tbody tr th:only-of-type {\n",
       "        vertical-align: middle;\n",
       "    }\n",
       "\n",
       "    .dataframe tbody tr th {\n",
       "        vertical-align: top;\n",
       "    }\n",
       "\n",
       "    .dataframe thead th {\n",
       "        text-align: right;\n",
       "    }\n",
       "</style>\n",
       "<table border=\"1\" class=\"dataframe\">\n",
       "  <thead>\n",
       "    <tr style=\"text-align: right;\">\n",
       "      <th></th>\n",
       "      <th>path</th>\n",
       "      <th>y_pred</th>\n",
       "    </tr>\n",
       "  </thead>\n",
       "  <tbody>\n",
       "    <tr>\n",
       "      <th>66</th>\n",
       "      <td>JVsample/TY4ckrzw8J0__466.6__490.7__.wav</td>\n",
       "      <td>happiness</td>\n",
       "    </tr>\n",
       "    <tr>\n",
       "      <th>93</th>\n",
       "      <td>JVsample/KJ1Yz3s8tMI__525.9__543.3__.wav</td>\n",
       "      <td>sadness</td>\n",
       "    </tr>\n",
       "    <tr>\n",
       "      <th>107</th>\n",
       "      <td>JVsample/9raKchKhH2k__928.5__946.1__.wav</td>\n",
       "      <td>anger</td>\n",
       "    </tr>\n",
       "    <tr>\n",
       "      <th>118</th>\n",
       "      <td>JVsample/10IXdfbTA1k__379.3__398.4__.wav</td>\n",
       "      <td>anger</td>\n",
       "    </tr>\n",
       "    <tr>\n",
       "      <th>122</th>\n",
       "      <td>JVsample/O3Q4wXUmkE8__288.0__293.8__.wav</td>\n",
       "      <td>anger</td>\n",
       "    </tr>\n",
       "    <tr>\n",
       "      <th>241</th>\n",
       "      <td>JVsample/oN9ANtPWBm8__114.3__131.1__.wav</td>\n",
       "      <td>anger</td>\n",
       "    </tr>\n",
       "    <tr>\n",
       "      <th>269</th>\n",
       "      <td>JVsample/ha6JJW2FCbc__563.5__571.2__.wav</td>\n",
       "      <td>anger</td>\n",
       "    </tr>\n",
       "    <tr>\n",
       "      <th>321</th>\n",
       "      <td>JVsample/n4OsWcbu4zk__516.3__529.6__.wav</td>\n",
       "      <td>anger</td>\n",
       "    </tr>\n",
       "    <tr>\n",
       "      <th>342</th>\n",
       "      <td>JVsample/ha6JJW2FCbc__1023.0__1046.8__.wav</td>\n",
       "      <td>anger</td>\n",
       "    </tr>\n",
       "    <tr>\n",
       "      <th>448</th>\n",
       "      <td>JVsample/_ln8wv4k5OA__441.6__452.8__.wav</td>\n",
       "      <td>anger</td>\n",
       "    </tr>\n",
       "  </tbody>\n",
       "</table>\n",
       "</div>"
      ],
      "text/plain": [
       "                                           path     y_pred\n",
       "66     JVsample/TY4ckrzw8J0__466.6__490.7__.wav  happiness\n",
       "93     JVsample/KJ1Yz3s8tMI__525.9__543.3__.wav    sadness\n",
       "107    JVsample/9raKchKhH2k__928.5__946.1__.wav      anger\n",
       "118    JVsample/10IXdfbTA1k__379.3__398.4__.wav      anger\n",
       "122    JVsample/O3Q4wXUmkE8__288.0__293.8__.wav      anger\n",
       "241    JVsample/oN9ANtPWBm8__114.3__131.1__.wav      anger\n",
       "269    JVsample/ha6JJW2FCbc__563.5__571.2__.wav      anger\n",
       "321    JVsample/n4OsWcbu4zk__516.3__529.6__.wav      anger\n",
       "342  JVsample/ha6JJW2FCbc__1023.0__1046.8__.wav      anger\n",
       "448    JVsample/_ln8wv4k5OA__441.6__452.8__.wav      anger"
      ]
     },
     "execution_count": 31,
     "metadata": {},
     "output_type": "execute_result"
    }
   ],
   "source": [
    "results.iloc[[i != \"neutral\" for i in y_pred],[0,2]]."
   ]
  },
  {
   "cell_type": "code",
   "execution_count": null,
   "metadata": {},
   "outputs": [],
   "source": []
  }
 ],
 "metadata": {
  "kernelspec": {
   "display_name": "Python 3.8.3 ('base')",
   "language": "python",
   "name": "python3"
  },
  "language_info": {
   "codemirror_mode": {
    "name": "ipython",
    "version": 3
   },
   "file_extension": ".py",
   "mimetype": "text/x-python",
   "name": "python",
   "nbconvert_exporter": "python",
   "pygments_lexer": "ipython3",
   "version": "3.8.3"
  },
  "orig_nbformat": 4,
  "vscode": {
   "interpreter": {
    "hash": "7f6f5766036ee03d059e365a942add07f79c17033585e9357ee8157d52fe6bb9"
   }
  }
 },
 "nbformat": 4,
 "nbformat_minor": 2
}
