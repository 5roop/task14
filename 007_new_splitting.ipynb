{
 "cells": [
  {
   "cell_type": "code",
   "execution_count": 19,
   "metadata": {},
   "outputs": [
    {
     "data": {
      "text/plain": [
       "(702, 13)"
      ]
     },
     "execution_count": 19,
     "metadata": {},
     "output_type": "execute_result"
    }
   ],
   "source": [
    "import pandas as pd\n",
    "from pathlib import Path\n",
    "\n",
    "from sklearn.model_selection import train_test_split\n",
    "import numpy as np\n",
    "\n",
    "\n",
    "\n",
    "df = pd.concat([\n",
    "    pd.read_csv(i) for i in Path(\".\").glob(\"001_*.csv\")\n",
    "]).reset_index(drop=True).drop(columns=\"Unnamed: 0\")\n",
    "\n",
    "\n",
    "\n",
    "from sklearn.model_selection import train_test_split\n",
    "import numpy as np\n",
    "train_target_size = 705\n",
    "train, devtest = train_test_split(df, train_size=train_target_size,random_state=20, stratify=df.target)\n",
    "\n",
    "for i in range(10):\n",
    "    problematic_speakers = set(train.speaker_id.tolist()).intersection(set(devtest.speaker_id.tolist()))\n",
    "\n",
    "    for speaker in problematic_speakers:\n",
    "        # print(test.shape[0], dev.shape[0])\n",
    "        if train.shape[0] > train_target_size:\n",
    "            # Move speakers from test to dev\n",
    "            c = train.speaker_id == speaker\n",
    "            to_move = train[c]\n",
    "            train = train[~c].reset_index(drop=True)\n",
    "            devtest = pd.concat([to_move, devtest]).reset_index(drop=True)\n",
    "        else:\n",
    "            c = devtest.speaker_id == speaker\n",
    "            to_move = devtest[c]\n",
    "            devtest = devtest[~c].reset_index(drop=True)\n",
    "            train = pd.concat([to_move, train]).reset_index(drop=True)\n",
    "        \n",
    "train.shape"
   ]
  },
  {
   "cell_type": "code",
   "execution_count": 20,
   "metadata": {},
   "outputs": [
    {
     "data": {
      "text/plain": [
       "0"
      ]
     },
     "execution_count": 20,
     "metadata": {},
     "output_type": "execute_result"
    }
   ],
   "source": [
    "i = 0\n",
    "for speaker in problematic_speakers:\n",
    "    if (speaker in train.speaker_id) and (speaker in devtest.speaker_id):\n",
    "        print(f\"Speaker {speaker} found in both splits!\")\n",
    "        i += 1\n",
    "i"
   ]
  },
  {
   "cell_type": "code",
   "execution_count": 21,
   "metadata": {},
   "outputs": [
    {
     "data": {
      "text/plain": [
       "(103, 13)"
      ]
     },
     "execution_count": 21,
     "metadata": {},
     "output_type": "execute_result"
    }
   ],
   "source": [
    "from sklearn.model_selection import train_test_split\n",
    "import numpy as np\n",
    "test_target_size = 102\n",
    "test, dev = train_test_split(devtest, test_size=test_target_size, random_state=45, stratify=devtest.target)\n",
    "\n",
    "for i in range(20):\n",
    "    problematic_speakers = set(test.speaker_id.tolist()).intersection(set(dev.speaker_id.tolist()))\n",
    "    speaker_gb = test[test.speaker_id.isin(problematic_speakers)].groupby(\"speaker_id\").count()[\"utterance_id\"]\n",
    "    speaker_gb = speaker_gb.sort_values(ascending=False)\n",
    "    problematic_speakers = speaker_gb.index\n",
    "    for speaker in problematic_speakers:\n",
    "        # print(test.shape[0], dev.shape[0])\n",
    "        if test.shape[0] > test_target_size:\n",
    "            # Move speakers from test to dev\n",
    "            c = test.speaker_id == speaker\n",
    "            to_move = test[c]\n",
    "            test = test[~c].reset_index(drop=True)\n",
    "            dev = pd.concat([to_move, dev]).reset_index(drop=True)\n",
    "        else:\n",
    "            c = dev.speaker_id == speaker\n",
    "            to_move = dev[c]\n",
    "            dev = dev[~c].reset_index(drop=True)\n",
    "            test = pd.concat([to_move, test]).reset_index(drop=True)\n",
    "test.shape"
   ]
  },
  {
   "cell_type": "code",
   "execution_count": 22,
   "metadata": {},
   "outputs": [
    {
     "data": {
      "text/plain": [
       "0"
      ]
     },
     "execution_count": 22,
     "metadata": {},
     "output_type": "execute_result"
    }
   ],
   "source": [
    "i = 0\n",
    "for speaker in problematic_speakers:\n",
    "    if (speaker in test.speaker_id) and (speaker in dev.speaker_id):\n",
    "        print(f\"Speaker {speaker} found in both splits!\")\n",
    "        i += 1\n",
    "i"
   ]
  },
  {
   "cell_type": "code",
   "execution_count": 23,
   "metadata": {},
   "outputs": [],
   "source": [
    "test[\"split\"] = \"test\"\n",
    "dev[\"split\"] = \"dev\"\n",
    "train[\"split\"] = \"train\"\n",
    "\n",
    "df = pd.concat([train, dev, test]).reset_index(drop=True)"
   ]
  },
  {
   "cell_type": "code",
   "execution_count": 24,
   "metadata": {},
   "outputs": [
    {
     "data": {
      "text/plain": [
       "<AxesSubplot:xlabel='split', ylabel='speaker_id'>"
      ]
     },
     "execution_count": 24,
     "metadata": {},
     "output_type": "execute_result"
    },
    {
     "data": {
      "image/png": "[encoded data removed]",
      "text/plain": [
       "<Figure size 252x189 with 1 Axes>"
      ]
     },
     "metadata": {
      "needs_background": "light"
     },
     "output_type": "display_data"
    }
   ],
   "source": [
    "import matplotlib.pyplot as plt\n",
    "plt.style.use(['science', 'no-latex'])\n",
    "import seaborn as sns\n",
    "\n",
    "sns.scatterplot(data=df, x=\"split\", y=\"speaker_id\", hue=\"split\")"
   ]
  },
  {
   "cell_type": "code",
   "execution_count": 25,
   "metadata": {},
   "outputs": [
    {
     "data": {
      "text/plain": [
       "<seaborn.axisgrid.FacetGrid at 0x7f74603d7940>"
      ]
     },
     "execution_count": 25,
     "metadata": {},
     "output_type": "execute_result"
    },
    {
     "data": {
      "image/png": "[encoded data removed]",
      "text/plain": [
       "<Figure size 420.625x360 with 1 Axes>"
      ]
     },
     "metadata": {
      "needs_background": "light"
     },
     "output_type": "display_data"
    }
   ],
   "source": [
    "sns.catplot(data=df, x=\"target\", hue=\"split\", kind=\"count\")"
   ]
  },
  {
   "cell_type": "code",
   "execution_count": 26,
   "metadata": {},
   "outputs": [
    {
     "data": {
      "image/png": "[encoded data removed]",
      "text/plain": [
       "<Figure size 720x360 with 1 Axes>"
      ]
     },
     "metadata": {
      "needs_background": "light"
     },
     "output_type": "display_data"
    }
   ],
   "source": [
    "plt.figure(figsize=(10,5))\n",
    "plt.hist(train.target, label=\"train dataset\", density=True, histtype=\"step\")\n",
    "plt.hist(dev.target, label=\"dev dataset\", density=True, histtype=\"step\")\n",
    "plt.hist(test.target, label=\"test dataset\", density=True, histtype=\"step\")\n",
    "plt.legend(loc=\"upper center\")\n",
    "plt.show()"
   ]
  },
  {
   "cell_type": "code",
   "execution_count": 27,
   "metadata": {},
   "outputs": [],
   "source": [
    "dev.to_csv(\"007_dev.csv\")\n",
    "test.to_csv(\"007_test.csv\")\n",
    "train.to_csv(\"007_train.csv\")\n",
    "\n"
   ]
  },
  {
   "cell_type": "code",
   "execution_count": null,
   "metadata": {},
   "outputs": [],
   "source": []
  }
 ],
 "metadata": {
  "kernelspec": {
   "display_name": "Python 3.8.3 ('base')",
   "language": "python",
   "name": "python3"
  },
  "language_info": {
   "codemirror_mode": {
    "name": "ipython",
    "version": 3
   },
   "file_extension": ".py",
   "mimetype": "text/x-python",
   "name": "python",
   "nbconvert_exporter": "python",
   "pygments_lexer": "ipython3",
   "version": "3.8.3"
  },
  "orig_nbformat": 4,
  "vscode": {
   "interpreter": {
    "hash": "7f6f5766036ee03d059e365a942add07f79c17033585e9357ee8157d52fe6bb9"
   }
  }
 },
 "nbformat": 4,
 "nbformat_minor": 2
}
