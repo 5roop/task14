{
 "cells": [
  {
   "cell_type": "markdown",
   "metadata": {},
   "source": [
    "# Report on CrES experiments' results\n",
    "\n",
    "Initial remarks: the models tested were `facebook/wav2vec2-large-slavic-voxpopuli-v2`, `facebook/wav2vec2-large-960h-lv60-self`, and `classla/wav2vec2-large-slavic-parlaspeech-hr`. HuBERT models were not yet implemented due to incompatibility issues, and with the unusual results we've been getting this hasn't yet gotten the focus it needs. In this notebook I analyze the last run of experiments that were performed on 2022-09-{01,02}, 20 runs in total.\n",
    "\n",
    "Let's import the results file, calculate macroF1 scores and accuracies, and count total results instances for each model:"
   ]
  },
  {
   "cell_type": "code",
   "execution_count": 1,
   "metadata": {},
   "outputs": [
    {
     "data": {
      "text/plain": [
       "facebook/wav2vec2-large-slavic-voxpopuli-v2     54\n",
       "facebook/wav2vec2-large-960h-lv60-self          54\n",
       "classla/wav2vec2-large-slavic-parlaspeech-hr    54\n",
       "Name: model_name_or_path, dtype: int64"
      ]
     },
     "execution_count": 1,
     "metadata": {},
     "output_type": "execute_result"
    }
   ],
   "source": [
    "import matplotlib.pyplot as plt\n",
    "plt.style.use(['science', 'no-latex'])\n",
    "import pandas as pd\n",
    "import seaborn as sns\n",
    "from sklearn.metrics import accuracy_score, f1_score\n",
    "\n",
    "test = pd.read_csv(\"007_test.csv\")\n",
    "dev = pd.read_csv(\"007_dev.csv\")\n",
    "train = pd.read_csv(\"007_train.csv\")\n",
    "df = pd.read_json(\"008_results_new_new_new.jsonl\", lines=True)\n",
    "labels = [\n",
    "'happiness', \n",
    "'neutral', \n",
    "'sadness',\n",
    "'fear', \n",
    "'anger', \n",
    "]\n",
    "df[\"accuracy\"] = df.apply(lambda row: accuracy_score(row[\"y_true\"],\n",
    "                                                     row[\"y_pred\"],\n",
    "                                                     ), axis=1)\n",
    "df[\"macroF1\"] = df.apply(lambda row: f1_score(row[\"y_true\"],\n",
    "                                              row[\"y_pred\"], average=\"macro\", labels=labels), axis=1)\n",
    "df.model_name_or_path.value_counts()\n"
   ]
  },
  {
   "cell_type": "markdown",
   "metadata": {},
   "source": [
    "The last result has been obtained at:"
   ]
  },
  {
   "cell_type": "code",
   "execution_count": 2,
   "metadata": {},
   "outputs": [
    {
     "data": {
      "text/plain": [
       "'2022-09-02 15:26:40.451508'"
      ]
     },
     "execution_count": 2,
     "metadata": {},
     "output_type": "execute_result"
    }
   ],
   "source": [
    "df.time.dropna().max()"
   ]
  },
  {
   "cell_type": "markdown",
   "metadata": {},
   "source": [
    "The next cell joins speaker ids and utterance ids to the table of results, which we can use later on for examining per speaker performance."
   ]
  },
  {
   "cell_type": "code",
   "execution_count": 3,
   "metadata": {},
   "outputs": [],
   "source": [
    "ids = []\n",
    "sp_ids = []\n",
    "for i, row in df.iterrows():\n",
    "    if \"test\" in row[\"split\"]:\n",
    "        ids.append(\n",
    "            test.utterance_id.tolist()\n",
    "        )\n",
    "        sp_ids.append(\n",
    "            test.speaker_id.tolist()\n",
    "        )\n",
    "    else:\n",
    "        ids.append(\n",
    "            dev.utterance_id.tolist()\n",
    "        )\n",
    "        sp_ids.append(\n",
    "            dev.speaker_id.tolist()\n",
    "        )\n",
    "df[\"utterance_ids\"] = ids\n",
    "df[\"speaker_ids\"] = sp_ids\n",
    "for i, row in df.iterrows():\n",
    "    assert len(row[\"utterance_ids\"]) == len(row[\"y_pred\"])\n"
   ]
  },
  {
   "cell_type": "markdown",
   "metadata": {},
   "source": [
    "Let's examine the metrics, grouped by model and split. We can see that all models perform better on dev split if we look at macro F1. We can also see that all models produced non-identical results, this is a bigger problem for 'facebook/wav2vec2-large-slavic-voxpopuli-v2' than it is for 'classla/wav2vec2-large-slavic-parlaspeech-hr' or 'facebook/wav2vec2-large-960h-lv60-self'. In the latter two cases the duplicated predictions only started to appear after 10 runs, and after 20 runs they accumulate 1 and 3 duplicated predictions. For the voxpopuli model this is a problem encountered much sooner and with greater frequency."
   ]
  },
  {
   "cell_type": "code",
   "execution_count": 4,
   "metadata": {},
   "outputs": [
    {
     "data": {
      "text/html": [
       "<style type=\"text/css\">\n",
       "#T_f81ee_row0_col0 {\n",
       "  width: 10em;\n",
       "  background: linear-gradient(90deg, #932f03 93.7%, transparent 93.7%);\n",
       "}\n",
       "#T_f81ee_row0_col2 {\n",
       "  width: 10em;\n",
       "  background: linear-gradient(90deg, #bd3e02 81.7%, transparent 81.7%);\n",
       "}\n",
       "#T_f81ee_row0_col4, #T_f81ee_row1_col4 {\n",
       "  color: red;\n",
       "  color: #fff5eb;\n",
       "}\n",
       "#T_f81ee_row1_col0 {\n",
       "  width: 10em;\n",
       "  background: linear-gradient(90deg, #ce4401 77.6%, transparent 77.6%);\n",
       "}\n",
       "#T_f81ee_row1_col2 {\n",
       "  width: 10em;\n",
       "  background: linear-gradient(90deg, #fdd0a2 25.4%, transparent 25.4%);\n",
       "}\n",
       "#T_f81ee_row2_col0 {\n",
       "  width: 10em;\n",
       "  background: linear-gradient(90deg, #e25508 70.1%, transparent 70.1%);\n",
       "}\n",
       "#T_f81ee_row2_col2 {\n",
       "  width: 10em;\n",
       "  background: linear-gradient(90deg, #f77a27 56.5%, transparent 56.5%);\n",
       "}\n",
       "#T_f81ee_row2_col4, #T_f81ee_row3_col4 {\n",
       "  color: red;\n",
       "  color: #fdd9b4;\n",
       "}\n",
       "#T_f81ee_row3_col0 {\n",
       "  width: 10em;\n",
       "  background: linear-gradient(90deg, #da4902 74.4%, transparent 74.4%);\n",
       "}\n",
       "#T_f81ee_row3_col2 {\n",
       "  width: 10em;\n",
       "  background: linear-gradient(90deg, #fdd0a2 25.1%, transparent 25.1%);\n",
       "}\n",
       "#T_f81ee_row4_col0, #T_f81ee_row4_col2 {\n",
       "  width: 10em;\n",
       "  background: linear-gradient(90deg, #7f2704 100.0%, transparent 100.0%);\n",
       "}\n",
       "#T_f81ee_row4_col4, #T_f81ee_row5_col4 {\n",
       "  color: red;\n",
       "  color: #7f2704;\n",
       "}\n",
       "#T_f81ee_row5_col0 {\n",
       "  width: 10em;\n",
       "  background: linear-gradient(90deg, #a63603 87.3%, transparent 87.3%);\n",
       "}\n",
       "#T_f81ee_row5_col2 {\n",
       "  width: 10em;\n",
       "  background: linear-gradient(90deg, #fd9b50 44.8%, transparent 44.8%);\n",
       "}\n",
       "</style>\n",
       "<table id=\"T_f81ee\">\n",
       "  <thead>\n",
       "    <tr>\n",
       "      <th class=\"blank\" >&nbsp;</th>\n",
       "      <th class=\"blank level0\" >&nbsp;</th>\n",
       "      <th id=\"T_f81ee_level0_col0\" class=\"col_heading level0 col0\" colspan=\"2\">accuracy</th>\n",
       "      <th id=\"T_f81ee_level0_col2\" class=\"col_heading level0 col2\" colspan=\"2\">macroF1</th>\n",
       "      <th id=\"T_f81ee_level0_col4\" class=\"col_heading level0 col4\" colspan=\"2\">y_pred</th>\n",
       "    </tr>\n",
       "    <tr>\n",
       "      <th class=\"blank\" >&nbsp;</th>\n",
       "      <th class=\"blank level1\" >&nbsp;</th>\n",
       "      <th id=\"T_f81ee_level1_col0\" class=\"col_heading level1 col0\" >mean</th>\n",
       "      <th id=\"T_f81ee_level1_col1\" class=\"col_heading level1 col1\" >std</th>\n",
       "      <th id=\"T_f81ee_level1_col2\" class=\"col_heading level1 col2\" >mean</th>\n",
       "      <th id=\"T_f81ee_level1_col3\" class=\"col_heading level1 col3\" >std</th>\n",
       "      <th id=\"T_f81ee_level1_col4\" class=\"col_heading level1 col4\" >unique</th>\n",
       "      <th id=\"T_f81ee_level1_col5\" class=\"col_heading level1 col5\" >count</th>\n",
       "    </tr>\n",
       "    <tr>\n",
       "      <th class=\"index_name level0\" >model_name_or_path</th>\n",
       "      <th class=\"index_name level1\" >split</th>\n",
       "      <th class=\"blank col0\" >&nbsp;</th>\n",
       "      <th class=\"blank col1\" >&nbsp;</th>\n",
       "      <th class=\"blank col2\" >&nbsp;</th>\n",
       "      <th class=\"blank col3\" >&nbsp;</th>\n",
       "      <th class=\"blank col4\" >&nbsp;</th>\n",
       "      <th class=\"blank col5\" >&nbsp;</th>\n",
       "    </tr>\n",
       "  </thead>\n",
       "  <tbody>\n",
       "    <tr>\n",
       "      <th id=\"T_f81ee_level0_row0\" class=\"row_heading level0 row0\" rowspan=\"2\">classla/wav2vec2-large-slavic-parlaspeech-hr</th>\n",
       "      <th id=\"T_f81ee_level1_row0\" class=\"row_heading level1 row0\" >dev</th>\n",
       "      <td id=\"T_f81ee_row0_col0\" class=\"data row0 col0\" >0.714338</td>\n",
       "      <td id=\"T_f81ee_row0_col1\" class=\"data row0 col1\" >0.089907</td>\n",
       "      <td id=\"T_f81ee_row0_col2\" class=\"data row0 col2\" >0.695836</td>\n",
       "      <td id=\"T_f81ee_row0_col3\" class=\"data row0 col3\" >0.125660</td>\n",
       "      <td id=\"T_f81ee_row0_col4\" class=\"data row0 col4\" >24</td>\n",
       "      <td id=\"T_f81ee_row0_col5\" class=\"data row0 col5\" >27</td>\n",
       "    </tr>\n",
       "    <tr>\n",
       "      <th id=\"T_f81ee_level1_row1\" class=\"row_heading level1 row1\" >test</th>\n",
       "      <td id=\"T_f81ee_row1_col0\" class=\"data row1 col0\" >0.694714</td>\n",
       "      <td id=\"T_f81ee_row1_col1\" class=\"data row1 col1\" >0.058211</td>\n",
       "      <td id=\"T_f81ee_row1_col2\" class=\"data row1 col2\" >0.629761</td>\n",
       "      <td id=\"T_f81ee_row1_col3\" class=\"data row1 col3\" >0.096007</td>\n",
       "      <td id=\"T_f81ee_row1_col4\" class=\"data row1 col4\" >24</td>\n",
       "      <td id=\"T_f81ee_row1_col5\" class=\"data row1 col5\" >27</td>\n",
       "    </tr>\n",
       "    <tr>\n",
       "      <th id=\"T_f81ee_level0_row2\" class=\"row_heading level0 row2\" rowspan=\"2\">facebook/wav2vec2-large-960h-lv60-self</th>\n",
       "      <th id=\"T_f81ee_level1_row2\" class=\"row_heading level1 row2\" >dev</th>\n",
       "      <td id=\"T_f81ee_row2_col0\" class=\"data row2 col0\" >0.685552</td>\n",
       "      <td id=\"T_f81ee_row2_col1\" class=\"data row2 col1\" >0.069271</td>\n",
       "      <td id=\"T_f81ee_row2_col2\" class=\"data row2 col2\" >0.666277</td>\n",
       "      <td id=\"T_f81ee_row2_col3\" class=\"data row2 col3\" >0.098693</td>\n",
       "      <td id=\"T_f81ee_row2_col4\" class=\"data row2 col4\" >23</td>\n",
       "      <td id=\"T_f81ee_row2_col5\" class=\"data row2 col5\" >27</td>\n",
       "    </tr>\n",
       "    <tr>\n",
       "      <th id=\"T_f81ee_level1_row3\" class=\"row_heading level1 row3\" >test</th>\n",
       "      <td id=\"T_f81ee_row3_col0\" class=\"data row3 col0\" >0.690759</td>\n",
       "      <td id=\"T_f81ee_row3_col1\" class=\"data row3 col1\" >0.053834</td>\n",
       "      <td id=\"T_f81ee_row3_col2\" class=\"data row3 col2\" >0.629435</td>\n",
       "      <td id=\"T_f81ee_row3_col3\" class=\"data row3 col3\" >0.085752</td>\n",
       "      <td id=\"T_f81ee_row3_col4\" class=\"data row3 col4\" >23</td>\n",
       "      <td id=\"T_f81ee_row3_col5\" class=\"data row3 col5\" >27</td>\n",
       "    </tr>\n",
       "    <tr>\n",
       "      <th id=\"T_f81ee_level0_row4\" class=\"row_heading level0 row4\" rowspan=\"2\">facebook/wav2vec2-large-slavic-voxpopuli-v2</th>\n",
       "      <th id=\"T_f81ee_level1_row4\" class=\"row_heading level1 row4\" >dev</th>\n",
       "      <td id=\"T_f81ee_row4_col0\" class=\"data row4 col0\" >0.722039</td>\n",
       "      <td id=\"T_f81ee_row4_col1\" class=\"data row4 col1\" >0.022963</td>\n",
       "      <td id=\"T_f81ee_row4_col2\" class=\"data row4 col2\" >0.717330</td>\n",
       "      <td id=\"T_f81ee_row4_col3\" class=\"data row4 col3\" >0.023316</td>\n",
       "      <td id=\"T_f81ee_row4_col4\" class=\"data row4 col4\" >19</td>\n",
       "      <td id=\"T_f81ee_row4_col5\" class=\"data row4 col5\" >27</td>\n",
       "    </tr>\n",
       "    <tr>\n",
       "      <th id=\"T_f81ee_level1_row5\" class=\"row_heading level1 row5\" >test</th>\n",
       "      <td id=\"T_f81ee_row5_col0\" class=\"data row5 col0\" >0.706580</td>\n",
       "      <td id=\"T_f81ee_row5_col1\" class=\"data row5 col1\" >0.030976</td>\n",
       "      <td id=\"T_f81ee_row5_col2\" class=\"data row5 col2\" >0.652610</td>\n",
       "      <td id=\"T_f81ee_row5_col3\" class=\"data row5 col3\" >0.030235</td>\n",
       "      <td id=\"T_f81ee_row5_col4\" class=\"data row5 col4\" >19</td>\n",
       "      <td id=\"T_f81ee_row5_col5\" class=\"data row5 col5\" >27</td>\n",
       "    </tr>\n",
       "  </tbody>\n",
       "</table>\n"
      ],
      "text/plain": [
       "<pandas.io.formats.style.Styler at 0x7f62a165c9a0>"
      ]
     },
     "execution_count": 4,
     "metadata": {},
     "output_type": "execute_result"
    }
   ],
   "source": [
    "def unique(l):\n",
    "    return len(set([str(i) for i in l]))\n",
    "gb1 = df.groupby([\"model_name_or_path\", \"split\"]).agg(\n",
    "    {\"accuracy\": [\"mean\", \"std\"],\n",
    "     \"macroF1\": [\"mean\", \"std\"],\n",
    "     \"y_pred\": [unique, \"count\"]}\n",
    ")\n",
    "st = gb1.style.bar(\n",
    "    vmin=0.6,\n",
    "    subset=[\n",
    "        (\"accuracy\", \"mean\"),\n",
    "        (\"macroF1\", \"mean\")], \n",
    "    cmap=\"Oranges\").apply(\n",
    "        lambda row: ['color: red', None] if row[0] != row[1] else [None, None],\n",
    "        axis=1, \n",
    "        subset=[\n",
    "            (\"y_pred\", \"unique\"),\n",
    "            (\"y_pred\", \"count\")]).text_gradient(\n",
    "                cmap=\"Oranges\",\n",
    "                subset = [(\"y_pred\", \"unique\")],\n",
    "                gmap = -gb1[(\"y_pred\", \"unique\")]/gb1[(\"y_pred\", \"count\")]\n",
    "            )\n",
    "st"
   ]
  },
  {
   "cell_type": "markdown",
   "metadata": {},
   "source": [
    "The following cells calculate average performance, grouped by speaker_id and model on the test split."
   ]
  },
  {
   "cell_type": "code",
   "execution_count": 5,
   "metadata": {},
   "outputs": [],
   "source": [
    "def get_per_speaker_error_rate(row):\n",
    "    speakers = row[\"speaker_ids\"]\n",
    "    y_true = row[\"y_true\"]\n",
    "    y_pred = row[\"y_pred\"]\n",
    "    \n",
    "    df = pd.DataFrame(data={\n",
    "        \"speaker\": speakers,\n",
    "        \"y_true\": y_true,\n",
    "        \"y_pred\": y_pred\n",
    "    })\n",
    "    df[\"correct\"] = df.y_true == df.y_pred\n",
    "    import numpy as np\n",
    "    return df.groupby(\"speaker\").aggregate({\"correct\": \"mean\"  })\n",
    "\n",
    "correct_breakdown = []\n",
    "\n",
    "for i, row in df.iterrows():\n",
    "    correct_breakdown.append(\n",
    "        get_per_speaker_error_rate(row).correct.to_json()\n",
    "    )\n",
    "df[\"correct_ratio_breakdown\"] = correct_breakdown"
   ]
  },
  {
   "cell_type": "code",
   "execution_count": 6,
   "metadata": {},
   "outputs": [],
   "source": [
    "from ast import literal_eval\n",
    "s = df[df.split == \"test\"].correct_ratio_breakdown.apply(literal_eval).apply(pd.Series)        \n",
    "ndf = s.melt().rename(columns={\n",
    "    \"variable\": \"speaker\",\n",
    "    \"value\": \"correct_ratio\"\n",
    "})\n",
    "models = df[df.split==\"test\"].model_name_or_path.tolist()\n",
    "new_models = [models[i] for j in range(s.columns.shape[0]) for i in range(s.shape[0])]\n",
    "ndf[\"model_name_or_path\"] = new_models"
   ]
  },
  {
   "cell_type": "markdown",
   "metadata": {},
   "source": [
    "On the plot below we can see the percentage of correctly identified instances of individual speakers by different models, with black lines indicating standard deviation. \n",
    "\n",
    "For some speakers all models correctly predict their utterances, some speakers are barely correctly predicted by any model, and some speakers are better recognised by some models than others."
   ]
  },
  {
   "cell_type": "code",
   "execution_count": 7,
   "metadata": {},
   "outputs": [
    {
     "data": {
      "image/png": "[encoded data removed]",
      "text/plain": [
       "<Figure size 360x2160 with 1 Axes>"
      ]
     },
     "metadata": {
      "needs_background": "light"
     },
     "output_type": "display_data"
    }
   ],
   "source": [
    "gb = ndf.groupby(\"speaker\").aggregate({\n",
    "    \"correct_ratio\": [\"mean\", \"std\"]\n",
    "})\n",
    "gb.index = gb.index.astype(int)\n",
    "gb = gb.sort_index()\n",
    "\n",
    "plt.figure(figsize=(5, 30))\n",
    "sns.barplot(data = ndf, y = \"speaker\" , x = \"correct_ratio\", hue=\"model_name_or_path\", ci=\"sd\")\n",
    "plt.title(\"Percentage of correct\\npredictions by speaker and model\")\n",
    "plt.legend(loc=(0, 1.02))\n",
    "plt.xlim((0, None))\n",
    "# plt.tight_layout()\n",
    "plt.savefig(\"images/008_speaker_and_model_correctness.pdf\", dpi=200)\n",
    "plt.show()"
   ]
  },
  {
   "cell_type": "markdown",
   "metadata": {},
   "source": [
    "For sanity check let's see if we have any leakages between splits speakers:"
   ]
  },
  {
   "cell_type": "code",
   "execution_count": 8,
   "metadata": {},
   "outputs": [],
   "source": [
    "test_speakers = set(test.speaker_id.tolist())\n",
    "dev_speakers = set(dev.speaker_id.tolist())\n",
    "train_speakers = set(train.speaker_id.tolist())"
   ]
  },
  {
   "cell_type": "code",
   "execution_count": 9,
   "metadata": {},
   "outputs": [
    {
     "name": "stdout",
     "output_type": "stream",
     "text": [
      "test_speakers against dev_speakers: 0 leaked\n",
      "test_speakers against train_speakers: 0 leaked\n",
      "dev_speakers against test_speakers: 0 leaked\n",
      "dev_speakers against train_speakers: 0 leaked\n",
      "train_speakers against test_speakers: 0 leaked\n",
      "train_speakers against dev_speakers: 0 leaked\n"
     ]
    }
   ],
   "source": [
    "d = {\"test_speakers\": test_speakers,\n",
    "     \"dev_speakers\": dev_speakers, \n",
    "     \"train_speakers\": train_speakers}\n",
    "\n",
    "for first in d:\n",
    "    for second in d:\n",
    "        if first == second:\n",
    "            continue\n",
    "        print(f\"{first} against {second}: {len(d[first].intersection(d[second]))} leaked\")"
   ]
  },
  {
   "cell_type": "markdown",
   "metadata": {},
   "source": [
    "# Addendum\n",
    "\n",
    "To be added:\n",
    "1. a confusion matrix of an average run of the best-performing system\n",
    "2. for the same \"average run of the best-performing system\" test predictions and true labels, in tabular format, with IDs of instances, for human inspection\n",
    "3. agreement (accuracy, macroF1) between two different systems (choose a few random runs, and then investigate combinations), to see whether the systems agree between each other better than with the true label (could mean they all overfitted in a similar manner, not being able to handle the variation, or rather \"weirdness\" of some instances, or, rather, speakers)"
   ]
  },
  {
   "cell_type": "markdown",
   "metadata": {},
   "source": [
    "Let's first see which model is best performing. I will look at average macro F1 on test split to detemine that."
   ]
  },
  {
   "cell_type": "code",
   "execution_count": 10,
   "metadata": {},
   "outputs": [
    {
     "data": {
      "text/plain": [
       "'facebook/wav2vec2-large-slavic-voxpopuli-v2'"
      ]
     },
     "execution_count": 10,
     "metadata": {},
     "output_type": "execute_result"
    }
   ],
   "source": [
    "idx = gb1.loc[(slice(None), \"test\"), (\"macroF1\", \"mean\")].idxmax()\n",
    "best_model = idx[0]\n",
    "best_model"
   ]
  },
  {
   "cell_type": "markdown",
   "metadata": {},
   "source": [
    "Let us get the average run of this model:"
   ]
  },
  {
   "cell_type": "code",
   "execution_count": 11,
   "metadata": {},
   "outputs": [],
   "source": [
    "c1 = df.model_name_or_path == best_model\n",
    "c2 = df.split == \"test\"\n",
    "\n",
    "subset = df[c1&c2]\n",
    "average_macroF1 = subset.macroF1.mean()\n",
    "import numpy as np\n",
    "average_run_idx = (subset.macroF1 - average_macroF1).apply(abs).idxmin()\n",
    "y_true, y_pred = subset.loc[average_run_idx, [\"y_true\", \"y_pred\"]]"
   ]
  },
  {
   "cell_type": "code",
   "execution_count": 15,
   "metadata": {},
   "outputs": [
    {
     "data": {
      "image/png": "[encoded data removed]",
      "text/plain": [
       "<Figure size 360x360 with 1 Axes>"
      ]
     },
     "metadata": {
      "needs_background": "light"
     },
     "output_type": "display_data"
    },
    {
     "data": {
      "text/plain": [
       "(0.6990291262135923, 0.6510912076429317)"
      ]
     },
     "execution_count": 15,
     "metadata": {},
     "output_type": "execute_result"
    }
   ],
   "source": [
    "def plot_cm(y_true, y_pred, labels, save=False, title=None):\n",
    "    from sklearn.metrics import confusion_matrix\n",
    "    from sklearn.metrics import f1_score\n",
    "    import matplotlib.pyplot as plt\n",
    "    plt.style.use([\"science\", \"no-latex\", ])\n",
    "    cm = confusion_matrix(y_true, y_pred, labels=labels, )\n",
    "    # print(cm)\n",
    "    plt.figure(figsize=(5, 5))\n",
    "    plt.imshow(cm, cmap=\"Oranges\")\n",
    "    for (i, j), z in np.ndenumerate(cm):\n",
    "        plt.text(j, i, '{:d}'.format(z), ha='center', va='center')\n",
    "    classNames = labels\n",
    "    plt.ylabel('True label')\n",
    "    plt.xlabel('Predicted label')\n",
    "    tick_marks = np.arange(len(classNames))\n",
    "    plt.xticks(tick_marks, classNames, rotation=90)\n",
    "    plt.yticks(tick_marks, classNames)\n",
    "    microF1 = f1_score(y_true, y_pred, labels=labels, average =\"micro\")\n",
    "    macroF1 = f1_score(y_true, y_pred, labels=labels, average =\"macro\")\n",
    "\n",
    "    metrics = f\"{microF1=:0.4}, {macroF1=:0.4}\"\n",
    "    if title:\n",
    "        plt.title(title +\";\\n\" + metrics)\n",
    "    else:\n",
    "        plt.title(metrics)\n",
    "    plt.tight_layout()\n",
    "    if save:\n",
    "        plt.savefig(save)\n",
    "    plt.show()\n",
    "    return microF1, macroF1\n",
    "\n",
    "plot_cm(labels=labels, y_true=y_true, y_pred=y_pred, \n",
    "        title=\"CM of the average run of the best-performing system\",\n",
    "        save=\"images/008_CM.png\")"
   ]
  },
  {
   "cell_type": "code",
   "execution_count": 13,
   "metadata": {},
   "outputs": [],
   "source": [
    "y_true, y_pred, utterance_ids = subset.loc[average_run_idx, [\"y_true\", \"y_pred\", \"utterance_ids\"]]\n",
    "utterance_breakdown = pd.DataFrame({\"y_true\": y_true, \"y_pred\":y_pred, \"utterance_id\": utterance_ids})\n",
    "utterance_breakdown.to_json(\"008_utterance_breakdown.jsonl\", lines=True, orient=\"records\")"
   ]
  },
  {
   "cell_type": "code",
   "execution_count": 14,
   "metadata": {},
   "outputs": [
    {
     "data": {
      "text/plain": [
       "Index(['output_column', 'model_name_or_path', 'eval_file', 'TASK', 'NUM_EPOCH',\n",
       "       'input_column', 'data_files', 'clip_seconds', 'split', 'y_true',\n",
       "       'y_pred', 'time', 'accuracy', 'macroF1', 'utterance_ids', 'speaker_ids',\n",
       "       'correct_ratio_breakdown'],\n",
       "      dtype='object')"
      ]
     },
     "execution_count": 14,
     "metadata": {},
     "output_type": "execute_result"
    }
   ],
   "source": [
    "subset.columns"
   ]
  },
  {
   "cell_type": "code",
   "execution_count": null,
   "metadata": {},
   "outputs": [],
   "source": []
  }
 ],
 "metadata": {
  "kernelspec": {
   "display_name": "Python 3.8.3 ('base')",
   "language": "python",
   "name": "python3"
  },
  "language_info": {
   "codemirror_mode": {
    "name": "ipython",
    "version": 3
   },
   "file_extension": ".py",
   "mimetype": "text/x-python",
   "name": "python",
   "nbconvert_exporter": "python",
   "pygments_lexer": "ipython3",
   "version": "3.8.3"
  },
  "orig_nbformat": 4,
  "vscode": {
   "interpreter": {
    "hash": "7f6f5766036ee03d059e365a942add07f79c17033585e9357ee8157d52fe6bb9"
   }
  }
 },
 "nbformat": 4,
 "nbformat_minor": 2
}
