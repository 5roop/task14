{
 "cells": [
  {
   "cell_type": "markdown",
   "metadata": {},
   "source": [
    "# Report on CrES experiments' results\n",
    "\n",
    "Initial remarks: the models tested were `facebook/wav2vec2-large-slavic-voxpopuli-v2`, `facebook/wav2vec2-large-960h-lv60-self`, and `classla/wav2vec2-large-slavic-parlaspeech-hr`. HuBERT models were not yet implemented due to incompatibility issues, and with the unusual results we've been getting this hasn't yet gotten the focus it needs. In this notebook I analyze the last run of experiments that were performed on 2022-09-{01,02}, 20 runs in total.\n",
    "\n",
    "Let's import the results file, calculate macroF1 scores and accuracies, and count total results instances for each model:"
   ]
  },
  {
   "cell_type": "code",
   "execution_count": 432,
   "metadata": {},
   "outputs": [
    {
     "data": {
      "text/plain": [
       "facebook/wav2vec2-large-slavic-voxpopuli-v2     52\n",
       "facebook/wav2vec2-large-960h-lv60-self          52\n",
       "classla/wav2vec2-large-slavic-parlaspeech-hr    52\n",
       "Name: model_name_or_path, dtype: int64"
      ]
     },
     "execution_count": 432,
     "metadata": {},
     "output_type": "execute_result"
    }
   ],
   "source": [
    "import matplotlib.pyplot as plt\n",
    "plt.style.use(['science', 'no-latex'])\n",
    "import pandas as pd\n",
    "import seaborn as sns\n",
    "from sklearn.metrics import accuracy_score, f1_score\n",
    "\n",
    "test = pd.read_csv(\"007_test.csv\")\n",
    "dev = pd.read_csv(\"007_dev.csv\")\n",
    "train = pd.read_csv(\"007_train.csv\")\n",
    "df = pd.read_json(\"008_results_new_new_new.jsonl\", lines=True)\n",
    "labels = [\n",
    "'happiness', \n",
    "'neutral', \n",
    "'sadness',\n",
    "'fear', \n",
    "'anger', \n",
    "]\n",
    "df[\"accuracy\"] = df.apply(lambda row: accuracy_score(row[\"y_true\"],\n",
    "                                                     row[\"y_pred\"],\n",
    "                                                     ), axis=1)\n",
    "df[\"macroF1\"] = df.apply(lambda row: f1_score(row[\"y_true\"],\n",
    "                                              row[\"y_pred\"], average=\"macro\", labels=labels), axis=1)\n",
    "df.model_name_or_path.value_counts()\n"
   ]
  },
  {
   "cell_type": "markdown",
   "metadata": {},
   "source": [
    "The last result has been obtained at:"
   ]
  },
  {
   "cell_type": "code",
   "execution_count": 433,
   "metadata": {},
   "outputs": [
    {
     "data": {
      "text/plain": [
       "'2022-09-02 14:39:56.280432'"
      ]
     },
     "execution_count": 433,
     "metadata": {},
     "output_type": "execute_result"
    }
   ],
   "source": [
    "df.time.dropna().max()"
   ]
  },
  {
   "cell_type": "markdown",
   "metadata": {},
   "source": [
    "The next cell joins speaker ids and utterance ids to the table of results, which we can use later on for examining per speaker performance."
   ]
  },
  {
   "cell_type": "code",
   "execution_count": 434,
   "metadata": {},
   "outputs": [],
   "source": [
    "ids = []\n",
    "sp_ids = []\n",
    "for i, row in df.iterrows():\n",
    "    if \"test\" in row[\"split\"]:\n",
    "        ids.append(\n",
    "            test.utterance_id.tolist()\n",
    "        )\n",
    "        sp_ids.append(\n",
    "            test.speaker_id.tolist()\n",
    "        )\n",
    "    else:\n",
    "        ids.append(\n",
    "            dev.utterance_id.tolist()\n",
    "        )\n",
    "        sp_ids.append(\n",
    "            dev.speaker_id.tolist()\n",
    "        )\n",
    "df[\"utterance_ids\"] = ids\n",
    "df[\"speaker_ids\"] = sp_ids\n",
    "for i, row in df.iterrows():\n",
    "    assert len(row[\"utterance_ids\"]) == len(row[\"y_pred\"])\n"
   ]
  },
  {
   "cell_type": "markdown",
   "metadata": {},
   "source": [
    "Let's examine the metrics, grouped by model and split. We can see that all models perform better on dev split if we look at macro F1. We can also see that all models produced non-identical results, this is a bigger problem for 'facebook/wav2vec2-large-slavic-voxpopuli-v2' than it is for 'classla/wav2vec2-large-slavic-parlaspeech-hr' or 'facebook/wav2vec2-large-960h-lv60-self'. In the latter two cases the duplicated predictions only started to appear after 10 runs, and after 20 runs they accumulate 1 and 3 duplicated predictions. For the voxpopuli model this is a problem encountered much sooner and with greater frequency."
   ]
  },
  {
   "cell_type": "code",
   "execution_count": 435,
   "metadata": {},
   "outputs": [
    {
     "data": {
      "text/html": [
       "<style type=\"text/css\">\n",
       "#T_8fd2b_row0_col0, #T_8fd2b_row4_col2 {\n",
       "  width: 10em;\n",
       "  background: linear-gradient(90deg, #7f2704 100.0%, transparent 100.0%);\n",
       "}\n",
       "#T_8fd2b_row0_col2 {\n",
       "  width: 10em;\n",
       "  background: linear-gradient(90deg, #8b2c04 96.1%, transparent 96.1%);\n",
       "}\n",
       "#T_8fd2b_row0_col4, #T_8fd2b_row1_col4 {\n",
       "  color: red;\n",
       "  color: #fff5eb;\n",
       "}\n",
       "#T_8fd2b_row1_col0 {\n",
       "  width: 10em;\n",
       "  background: linear-gradient(90deg, #bd3e02 81.8%, transparent 81.8%);\n",
       "}\n",
       "#T_8fd2b_row1_col2 {\n",
       "  width: 10em;\n",
       "  background: linear-gradient(90deg, #fdaf6c 37.5%, transparent 37.5%);\n",
       "}\n",
       "#T_8fd2b_row2_col0 {\n",
       "  width: 10em;\n",
       "  background: linear-gradient(90deg, #e25508 70.3%, transparent 70.3%);\n",
       "}\n",
       "#T_8fd2b_row2_col2 {\n",
       "  width: 10em;\n",
       "  background: linear-gradient(90deg, #f3701b 60.0%, transparent 60.0%);\n",
       "}\n",
       "#T_8fd2b_row2_col4, #T_8fd2b_row3_col4 {\n",
       "  color: red;\n",
       "  color: #fdd9b4;\n",
       "}\n",
       "#T_8fd2b_row3_col0 {\n",
       "  width: 10em;\n",
       "  background: linear-gradient(90deg, #e05206 71.1%, transparent 71.1%);\n",
       "}\n",
       "#T_8fd2b_row3_col2 {\n",
       "  width: 10em;\n",
       "  background: linear-gradient(90deg, #fdd1a4 24.6%, transparent 24.6%);\n",
       "}\n",
       "#T_8fd2b_row4_col0 {\n",
       "  width: 10em;\n",
       "  background: linear-gradient(90deg, #882a04 97.1%, transparent 97.1%);\n",
       "}\n",
       "#T_8fd2b_row4_col4, #T_8fd2b_row5_col4 {\n",
       "  color: red;\n",
       "  color: #7f2704;\n",
       "}\n",
       "#T_8fd2b_row5_col0 {\n",
       "  width: 10em;\n",
       "  background: linear-gradient(90deg, #ad3803 85.7%, transparent 85.7%);\n",
       "}\n",
       "#T_8fd2b_row5_col2 {\n",
       "  width: 10em;\n",
       "  background: linear-gradient(90deg, #fd9a4e 45.2%, transparent 45.2%);\n",
       "}\n",
       "</style>\n",
       "<table id=\"T_8fd2b\">\n",
       "  <thead>\n",
       "    <tr>\n",
       "      <th class=\"blank\" >&nbsp;</th>\n",
       "      <th class=\"blank level0\" >&nbsp;</th>\n",
       "      <th id=\"T_8fd2b_level0_col0\" class=\"col_heading level0 col0\" colspan=\"2\">accuracy</th>\n",
       "      <th id=\"T_8fd2b_level0_col2\" class=\"col_heading level0 col2\" colspan=\"2\">macroF1</th>\n",
       "      <th id=\"T_8fd2b_level0_col4\" class=\"col_heading level0 col4\" colspan=\"2\">y_pred</th>\n",
       "    </tr>\n",
       "    <tr>\n",
       "      <th class=\"blank\" >&nbsp;</th>\n",
       "      <th class=\"blank level1\" >&nbsp;</th>\n",
       "      <th id=\"T_8fd2b_level1_col0\" class=\"col_heading level1 col0\" >mean</th>\n",
       "      <th id=\"T_8fd2b_level1_col1\" class=\"col_heading level1 col1\" >std</th>\n",
       "      <th id=\"T_8fd2b_level1_col2\" class=\"col_heading level1 col2\" >mean</th>\n",
       "      <th id=\"T_8fd2b_level1_col3\" class=\"col_heading level1 col3\" >std</th>\n",
       "      <th id=\"T_8fd2b_level1_col4\" class=\"col_heading level1 col4\" >unique</th>\n",
       "      <th id=\"T_8fd2b_level1_col5\" class=\"col_heading level1 col5\" >count</th>\n",
       "    </tr>\n",
       "    <tr>\n",
       "      <th class=\"index_name level0\" >model_name_or_path</th>\n",
       "      <th class=\"index_name level1\" >split</th>\n",
       "      <th class=\"blank col0\" >&nbsp;</th>\n",
       "      <th class=\"blank col1\" >&nbsp;</th>\n",
       "      <th class=\"blank col2\" >&nbsp;</th>\n",
       "      <th class=\"blank col3\" >&nbsp;</th>\n",
       "      <th class=\"blank col4\" >&nbsp;</th>\n",
       "      <th class=\"blank col5\" >&nbsp;</th>\n",
       "    </tr>\n",
       "  </thead>\n",
       "  <tbody>\n",
       "    <tr>\n",
       "      <th id=\"T_8fd2b_level0_row0\" class=\"row_heading level0 row0\" rowspan=\"2\">classla/wav2vec2-large-slavic-parlaspeech-hr</th>\n",
       "      <th id=\"T_8fd2b_level1_row0\" class=\"row_heading level1 row0\" >dev</th>\n",
       "      <td id=\"T_8fd2b_row0_col0\" class=\"data row0 col0\" >0.725628</td>\n",
       "      <td id=\"T_8fd2b_row0_col1\" class=\"data row0 col1\" >0.069479</td>\n",
       "      <td id=\"T_8fd2b_row0_col2\" class=\"data row0 col2\" >0.712621</td>\n",
       "      <td id=\"T_8fd2b_row0_col3\" class=\"data row0 col3\" >0.092257</td>\n",
       "      <td id=\"T_8fd2b_row0_col4\" class=\"data row0 col4\" >23</td>\n",
       "      <td id=\"T_8fd2b_row0_col5\" class=\"data row0 col5\" >26</td>\n",
       "    </tr>\n",
       "    <tr>\n",
       "      <th id=\"T_8fd2b_level1_row1\" class=\"row_heading level1 row1\" >test</th>\n",
       "      <td id=\"T_8fd2b_row1_col0\" class=\"data row1 col0\" >0.702763</td>\n",
       "      <td id=\"T_8fd2b_row1_col1\" class=\"data row1 col1\" >0.041289</td>\n",
       "      <td id=\"T_8fd2b_row1_col2\" class=\"data row1 col2\" >0.643965</td>\n",
       "      <td id=\"T_8fd2b_row1_col3\" class=\"data row1 col3\" >0.062618</td>\n",
       "      <td id=\"T_8fd2b_row1_col4\" class=\"data row1 col4\" >23</td>\n",
       "      <td id=\"T_8fd2b_row1_col5\" class=\"data row1 col5\" >26</td>\n",
       "    </tr>\n",
       "    <tr>\n",
       "      <th id=\"T_8fd2b_level0_row2\" class=\"row_heading level0 row2\" rowspan=\"2\">facebook/wav2vec2-large-960h-lv60-self</th>\n",
       "      <th id=\"T_8fd2b_level1_row2\" class=\"row_heading level1 row2\" >dev</th>\n",
       "      <td id=\"T_8fd2b_row2_col0\" class=\"data row2 col0\" >0.688309</td>\n",
       "      <td id=\"T_8fd2b_row2_col1\" class=\"data row2 col1\" >0.069115</td>\n",
       "      <td id=\"T_8fd2b_row2_col2\" class=\"data row2 col2\" >0.670299</td>\n",
       "      <td id=\"T_8fd2b_row2_col3\" class=\"data row2 col3\" >0.098365</td>\n",
       "      <td id=\"T_8fd2b_row2_col4\" class=\"data row2 col4\" >22</td>\n",
       "      <td id=\"T_8fd2b_row2_col5\" class=\"data row2 col5\" >26</td>\n",
       "    </tr>\n",
       "    <tr>\n",
       "      <th id=\"T_8fd2b_level1_row3\" class=\"row_heading level1 row3\" >test</th>\n",
       "      <td id=\"T_8fd2b_row3_col0\" class=\"data row3 col0\" >0.689320</td>\n",
       "      <td id=\"T_8fd2b_row3_col1\" class=\"data row3 col1\" >0.054369</td>\n",
       "      <td id=\"T_8fd2b_row3_col2\" class=\"data row3 col2\" >0.628796</td>\n",
       "      <td id=\"T_8fd2b_row3_col3\" class=\"data row3 col3\" >0.087385</td>\n",
       "      <td id=\"T_8fd2b_row3_col4\" class=\"data row3 col4\" >22</td>\n",
       "      <td id=\"T_8fd2b_row3_col5\" class=\"data row3 col5\" >26</td>\n",
       "    </tr>\n",
       "    <tr>\n",
       "      <th id=\"T_8fd2b_level0_row4\" class=\"row_heading level0 row4\" rowspan=\"2\">facebook/wav2vec2-large-slavic-voxpopuli-v2</th>\n",
       "      <th id=\"T_8fd2b_level1_row4\" class=\"row_heading level1 row4\" >dev</th>\n",
       "      <td id=\"T_8fd2b_row4_col0\" class=\"data row4 col0\" >0.722011</td>\n",
       "      <td id=\"T_8fd2b_row4_col1\" class=\"data row4 col1\" >0.023417</td>\n",
       "      <td id=\"T_8fd2b_row4_col2\" class=\"data row4 col2\" >0.717248</td>\n",
       "      <td id=\"T_8fd2b_row4_col3\" class=\"data row4 col3\" >0.023774</td>\n",
       "      <td id=\"T_8fd2b_row4_col4\" class=\"data row4 col4\" >18</td>\n",
       "      <td id=\"T_8fd2b_row4_col5\" class=\"data row4 col5\" >26</td>\n",
       "    </tr>\n",
       "    <tr>\n",
       "      <th id=\"T_8fd2b_level1_row5\" class=\"row_heading level1 row5\" >test</th>\n",
       "      <td id=\"T_8fd2b_row5_col0\" class=\"data row5 col0\" >0.707618</td>\n",
       "      <td id=\"T_8fd2b_row5_col1\" class=\"data row5 col1\" >0.031108</td>\n",
       "      <td id=\"T_8fd2b_row5_col2\" class=\"data row5 col2\" >0.653031</td>\n",
       "      <td id=\"T_8fd2b_row5_col3\" class=\"data row5 col3\" >0.030753</td>\n",
       "      <td id=\"T_8fd2b_row5_col4\" class=\"data row5 col4\" >18</td>\n",
       "      <td id=\"T_8fd2b_row5_col5\" class=\"data row5 col5\" >26</td>\n",
       "    </tr>\n",
       "  </tbody>\n",
       "</table>\n"
      ],
      "text/plain": [
       "<pandas.io.formats.style.Styler at 0x7fae9ac3b310>"
      ]
     },
     "execution_count": 435,
     "metadata": {},
     "output_type": "execute_result"
    }
   ],
   "source": [
    "def unique(l):\n",
    "    return len(set([str(i) for i in l]))\n",
    "gb = df.groupby([\"model_name_or_path\", \"split\"]).agg(\n",
    "    {\"accuracy\": [\"mean\", \"std\"],\n",
    "     \"macroF1\": [\"mean\", \"std\"],\n",
    "     \"y_pred\": [unique, \"count\"]}\n",
    ")\n",
    "st = gb.style.bar(\n",
    "    vmin=0.6,\n",
    "    subset=[\n",
    "        (\"accuracy\", \"mean\"),\n",
    "        (\"macroF1\", \"mean\")], \n",
    "    cmap=\"Oranges\").apply(\n",
    "        lambda row: ['color: red', None] if row[0] != row[1] else [None, None],\n",
    "        axis=1, \n",
    "        subset=[\n",
    "            (\"y_pred\", \"unique\"),\n",
    "            (\"y_pred\", \"count\")]).text_gradient(\n",
    "                cmap=\"Oranges\",\n",
    "                subset = [(\"y_pred\", \"unique\")],\n",
    "                gmap = -gb[(\"y_pred\", \"unique\")]/gb[(\"y_pred\", \"count\")]\n",
    "            )\n",
    "st"
   ]
  },
  {
   "cell_type": "markdown",
   "metadata": {},
   "source": [
    "The following cells calculate average performance, grouped by speaker_id and model on the test split."
   ]
  },
  {
   "cell_type": "code",
   "execution_count": 436,
   "metadata": {},
   "outputs": [],
   "source": [
    "def get_per_speaker_error_rate(row):\n",
    "    speakers = row[\"speaker_ids\"]\n",
    "    y_true = row[\"y_true\"]\n",
    "    y_pred = row[\"y_pred\"]\n",
    "    \n",
    "    df = pd.DataFrame(data={\n",
    "        \"speaker\": speakers,\n",
    "        \"y_true\": y_true,\n",
    "        \"y_pred\": y_pred\n",
    "    })\n",
    "    df[\"correct\"] = df.y_true == df.y_pred\n",
    "    import numpy as np\n",
    "    return df.groupby(\"speaker\").aggregate({\"correct\": \"mean\"  })\n",
    "\n",
    "correct_breakdown = []\n",
    "\n",
    "for i, row in df.iterrows():\n",
    "    correct_breakdown.append(\n",
    "        get_per_speaker_error_rate(row).correct.to_json()\n",
    "    )\n",
    "df[\"correct_ratio_breakdown\"] = correct_breakdown"
   ]
  },
  {
   "cell_type": "code",
   "execution_count": 437,
   "metadata": {},
   "outputs": [],
   "source": [
    "from ast import literal_eval\n",
    "s = df[df.split == \"test\"].correct_ratio_breakdown.apply(literal_eval).apply(pd.Series)        \n",
    "ndf = s.melt().rename(columns={\n",
    "    \"variable\": \"speaker\",\n",
    "    \"value\": \"correct_ratio\"\n",
    "})\n",
    "models = df[df.split==\"test\"].model_name_or_path.tolist()\n",
    "new_models = [models[i] for j in range(s.columns.shape[0]) for i in range(s.shape[0])]\n",
    "ndf[\"model_name_or_path\"] = new_models"
   ]
  },
  {
   "cell_type": "markdown",
   "metadata": {},
   "source": [
    "On the plot below we can see the percentage of correctly identified instances of individual speakers by different models, with black lines indicating standard deviation. \n",
    "\n",
    "For some speakers all models correctly predict their utterances, some speakers are barely correctly predicted by any model, and some speakers are better recognised by some models than others."
   ]
  },
  {
   "cell_type": "code",
   "execution_count": 438,
   "metadata": {},
   "outputs": [
    {
     "data": {
      "image/png": "[encoded data removed]",
      "text/plain": [
       "<Figure size 360x2160 with 1 Axes>"
      ]
     },
     "metadata": {
      "needs_background": "light"
     },
     "output_type": "display_data"
    }
   ],
   "source": [
    "gb = ndf.groupby(\"speaker\").aggregate({\n",
    "    \"correct_ratio\": [\"mean\", \"std\"]\n",
    "})\n",
    "gb.index = gb.index.astype(int)\n",
    "gb = gb.sort_index()\n",
    "\n",
    "plt.figure(figsize=(5, 30))\n",
    "sns.barplot(data = ndf, y = \"speaker\" , x = \"correct_ratio\", hue=\"model_name_or_path\", ci=\"sd\")\n",
    "plt.title(\"Percentage of correct\\npredictions by speaker and model\")\n",
    "plt.legend(loc=(0, 1.02))\n",
    "plt.xlim((0, None))\n",
    "# plt.tight_layout()\n",
    "plt.savefig(\"images/008_speaker_and_model_correctness.pdf\", dpi=200)\n",
    "plt.show()"
   ]
  },
  {
   "cell_type": "markdown",
   "metadata": {},
   "source": [
    "For sanity check let's see if we have any leakages between splits speakers:"
   ]
  },
  {
   "cell_type": "code",
   "execution_count": 439,
   "metadata": {},
   "outputs": [],
   "source": [
    "test_speakers = set(test.speaker_id.tolist())\n",
    "dev_speakers = set(dev.speaker_id.tolist())\n",
    "train_speakers = set(train.speaker_id.tolist())"
   ]
  },
  {
   "cell_type": "code",
   "execution_count": 440,
   "metadata": {},
   "outputs": [
    {
     "name": "stdout",
     "output_type": "stream",
     "text": [
      "test_speakers against dev_speakers: 0 leaked\n",
      "test_speakers against train_speakers: 0 leaked\n",
      "dev_speakers against test_speakers: 0 leaked\n",
      "dev_speakers against train_speakers: 0 leaked\n",
      "train_speakers against test_speakers: 0 leaked\n",
      "train_speakers against dev_speakers: 0 leaked\n"
     ]
    }
   ],
   "source": [
    "d = {\"test_speakers\": test_speakers,\n",
    "     \"dev_speakers\": dev_speakers, \n",
    "     \"train_speakers\": train_speakers}\n",
    "\n",
    "for first in d:\n",
    "    for second in d:\n",
    "        if first == second:\n",
    "            continue\n",
    "        print(f\"{first} against {second}: {len(d[first].intersection(d[second]))} leaked\")"
   ]
  },
  {
   "cell_type": "code",
   "execution_count": null,
   "metadata": {},
   "outputs": [],
   "source": []
  }
 ],
 "metadata": {
  "kernelspec": {
   "display_name": "Python 3.8.3 ('base')",
   "language": "python",
   "name": "python3"
  },
  "language_info": {
   "codemirror_mode": {
    "name": "ipython",
    "version": 3
   },
   "file_extension": ".py",
   "mimetype": "text/x-python",
   "name": "python",
   "nbconvert_exporter": "python",
   "pygments_lexer": "ipython3",
   "version": "3.8.3"
  },
  "orig_nbformat": 4,
  "vscode": {
   "interpreter": {
    "hash": "7f6f5766036ee03d059e365a942add07f79c17033585e9357ee8157d52fe6bb9"
   }
  }
 },
 "nbformat": 4,
 "nbformat_minor": 2
}
