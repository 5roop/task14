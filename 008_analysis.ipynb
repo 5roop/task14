{
 "cells": [
  {
   "cell_type": "code",
   "execution_count": 224,
   "metadata": {},
   "outputs": [
    {
     "data": {
      "text/plain": [
       "facebook/wav2vec2-large-slavic-voxpopuli-v2     10\n",
       "facebook/wav2vec2-large-960h-lv60-self          10\n",
       "classla/wav2vec2-large-slavic-parlaspeech-hr     8\n",
       "Name: model_name_or_path, dtype: int64"
      ]
     },
     "execution_count": 224,
     "metadata": {},
     "output_type": "execute_result"
    }
   ],
   "source": [
    "import pandas as pd\n",
    "import pandas as pd\n",
    "\n",
    "test = pd.read_csv(\"007_test.csv\")\n",
    "dev = pd.read_csv(\"007_dev.csv\")\n",
    "train = pd.read_csv(\"007_train.csv\")\n",
    "df = pd.read_json(\"008_results_new_new_new.jsonl\", lines=True)\n",
    "labels = [\n",
    "'happiness', \n",
    "'neutral', \n",
    "'sadness',\n",
    "'fear', \n",
    "'anger', \n",
    "]\n",
    "from sklearn.metrics import accuracy_score, f1_score\n",
    "df[\"accuracy\"] = df.apply(lambda row: accuracy_score(row[\"y_true\"],\n",
    "                                                     row[\"y_pred\"],\n",
    "                                                     ), axis=1)\n",
    "df[\"macroF1\"] = df.apply(lambda row: f1_score(row[\"y_true\"],\n",
    "                                              row[\"y_pred\"], average=\"macro\", labels=labels), axis=1)\n",
    "\n",
    "# df = df[df.split.str.contains(\"test\")]\n",
    "# df = df.iloc[[i for i in range(df.shape[0]) if i%3 != 0], :].reset_index(drop=True)\n",
    "df.model_name_or_path.value_counts()"
   ]
  },
  {
   "cell_type": "code",
   "execution_count": 225,
   "metadata": {},
   "outputs": [],
   "source": [
    "ids = []\n",
    "sp_ids = []\n",
    "for i, row in df.iterrows():\n",
    "    if \"test\" in row[\"split\"] :\n",
    "        ids.append(\n",
    "            test.utterance_id.tolist()\n",
    "        )\n",
    "        sp_ids.append(\n",
    "            test.speaker_id.tolist()\n",
    "        )\n",
    "    else:\n",
    "        ids.append(\n",
    "            dev.utterance_id.tolist()\n",
    "        )\n",
    "        sp_ids.append(\n",
    "            dev.speaker_id.tolist()\n",
    "        )\n",
    "df[\"utterance_ids\"] = ids\n",
    "df[\"speaker_ids\"] = sp_ids\n",
    "for i, row in df.iterrows():\n",
    "    assert len(row[\"utterance_ids\"]) == len(row[\"y_pred\"])"
   ]
  },
  {
   "cell_type": "code",
   "execution_count": 237,
   "metadata": {},
   "outputs": [
    {
     "data": {
      "text/html": [
       "<style type=\"text/css\">\n",
       "#T_92530_row0_col0 {\n",
       "  width: 10em;\n",
       "  background: linear-gradient(90deg, #a93703 86.4%, transparent 86.4%);\n",
       "}\n",
       "#T_92530_row0_col2 {\n",
       "  width: 10em;\n",
       "  background: linear-gradient(90deg, #e65a0b 68.0%, transparent 68.0%);\n",
       "}\n",
       "#T_92530_row1_col0 {\n",
       "  width: 10em;\n",
       "  background: linear-gradient(90deg, #f06712 63.0%, transparent 63.0%);\n",
       "}\n",
       "#T_92530_row1_col2 {\n",
       "  width: 10em;\n",
       "  background: linear-gradient(90deg, #fff5eb 0.2%, transparent 0.2%);\n",
       "}\n",
       "#T_92530_row2_col0 {\n",
       "  width: 10em;\n",
       "  background: linear-gradient(90deg, #fb8836 51.7%, transparent 51.7%);\n",
       "}\n",
       "#T_92530_row2_col2 {\n",
       "  width: 10em;\n",
       "  background: linear-gradient(90deg, #fdb576 35.2%, transparent 35.2%);\n",
       "}\n",
       "#T_92530_row3_col0 {\n",
       "  width: 10em;\n",
       "  background: linear-gradient(90deg, #e45709 69.3%, transparent 69.3%);\n",
       "}\n",
       "#T_92530_row3_col2 {\n",
       "  width: 10em;\n",
       "  background: linear-gradient(90deg, #fdce9e 25.8%, transparent 25.8%);\n",
       "}\n",
       "#T_92530_row4_col0, #T_92530_row4_col2 {\n",
       "  width: 10em;\n",
       "  background: linear-gradient(90deg, #7f2704 100.0%, transparent 100.0%);\n",
       "}\n",
       "#T_92530_row5_col0 {\n",
       "  width: 10em;\n",
       "  background: linear-gradient(90deg, #dd4d04 72.7%, transparent 72.7%);\n",
       "}\n",
       "#T_92530_row5_col2 {\n",
       "  width: 10em;\n",
       "  background: linear-gradient(90deg, #fdbd83 32.3%, transparent 32.3%);\n",
       "}\n",
       "</style>\n",
       "<table id=\"T_92530\">\n",
       "  <thead>\n",
       "    <tr>\n",
       "      <th class=\"blank\" >&nbsp;</th>\n",
       "      <th class=\"blank level0\" >&nbsp;</th>\n",
       "      <th id=\"T_92530_level0_col0\" class=\"col_heading level0 col0\" colspan=\"2\">accuracy</th>\n",
       "      <th id=\"T_92530_level0_col2\" class=\"col_heading level0 col2\" colspan=\"2\">macroF1</th>\n",
       "      <th id=\"T_92530_level0_col4\" class=\"col_heading level0 col4\" >y_pred</th>\n",
       "    </tr>\n",
       "    <tr>\n",
       "      <th class=\"blank\" >&nbsp;</th>\n",
       "      <th class=\"blank level1\" >&nbsp;</th>\n",
       "      <th id=\"T_92530_level1_col0\" class=\"col_heading level1 col0\" >mean</th>\n",
       "      <th id=\"T_92530_level1_col1\" class=\"col_heading level1 col1\" >std</th>\n",
       "      <th id=\"T_92530_level1_col2\" class=\"col_heading level1 col2\" >mean</th>\n",
       "      <th id=\"T_92530_level1_col3\" class=\"col_heading level1 col3\" >std</th>\n",
       "      <th id=\"T_92530_level1_col4\" class=\"col_heading level1 col4\" >count</th>\n",
       "    </tr>\n",
       "    <tr>\n",
       "      <th class=\"index_name level0\" >model_name_or_path</th>\n",
       "      <th class=\"index_name level1\" >split</th>\n",
       "      <th class=\"blank col0\" >&nbsp;</th>\n",
       "      <th class=\"blank col1\" >&nbsp;</th>\n",
       "      <th class=\"blank col2\" >&nbsp;</th>\n",
       "      <th class=\"blank col3\" >&nbsp;</th>\n",
       "      <th class=\"blank col4\" >&nbsp;</th>\n",
       "    </tr>\n",
       "  </thead>\n",
       "  <tbody>\n",
       "    <tr>\n",
       "      <th id=\"T_92530_level0_row0\" class=\"row_heading level0 row0\" rowspan=\"2\">classla/wav2vec2-large-slavic-parlaspeech-hr</th>\n",
       "      <th id=\"T_92530_level1_row0\" class=\"row_heading level1 row0\" >dev</th>\n",
       "      <td id=\"T_92530_row0_col0\" class=\"data row0 col0\" >0.699257</td>\n",
       "      <td id=\"T_92530_row0_col1\" class=\"data row0 col1\" >0.098296</td>\n",
       "      <td id=\"T_92530_row0_col2\" class=\"data row0 col2\" >0.676757</td>\n",
       "      <td id=\"T_92530_row0_col3\" class=\"data row0 col3\" >0.133497</td>\n",
       "      <td id=\"T_92530_row0_col4\" class=\"data row0 col4\" >4</td>\n",
       "    </tr>\n",
       "    <tr>\n",
       "      <th id=\"T_92530_level1_row1\" class=\"row_heading level1 row1\" >test</th>\n",
       "      <td id=\"T_92530_row1_col0\" class=\"data row1 col0\" >0.672330</td>\n",
       "      <td id=\"T_92530_row1_col1\" class=\"data row1 col1\" >0.045105</td>\n",
       "      <td id=\"T_92530_row1_col2\" class=\"data row1 col2\" >0.600228</td>\n",
       "      <td id=\"T_92530_row1_col3\" class=\"data row1 col3\" >0.077641</td>\n",
       "      <td id=\"T_92530_row1_col4\" class=\"data row1 col4\" >4</td>\n",
       "    </tr>\n",
       "    <tr>\n",
       "      <th id=\"T_92530_level0_row2\" class=\"row_heading level0 row2\" rowspan=\"2\">facebook/wav2vec2-large-960h-lv60-self</th>\n",
       "      <th id=\"T_92530_level1_row2\" class=\"row_heading level1 row2\" >dev</th>\n",
       "      <td id=\"T_92530_row2_col0\" class=\"data row2 col0\" >0.659406</td>\n",
       "      <td id=\"T_92530_row2_col1\" class=\"data row2 col1\" >0.043072</td>\n",
       "      <td id=\"T_92530_row2_col2\" class=\"data row2 col2\" >0.639670</td>\n",
       "      <td id=\"T_92530_row2_col3\" class=\"data row2 col3\" >0.047000</td>\n",
       "      <td id=\"T_92530_row2_col4\" class=\"data row2 col4\" >5</td>\n",
       "    </tr>\n",
       "    <tr>\n",
       "      <th id=\"T_92530_level1_row3\" class=\"row_heading level1 row3\" >test</th>\n",
       "      <td id=\"T_92530_row3_col0\" class=\"data row3 col0\" >0.679612</td>\n",
       "      <td id=\"T_92530_row3_col1\" class=\"data row3 col1\" >0.016816</td>\n",
       "      <td id=\"T_92530_row3_col2\" class=\"data row3 col2\" >0.629137</td>\n",
       "      <td id=\"T_92530_row3_col3\" class=\"data row3 col3\" >0.037573</td>\n",
       "      <td id=\"T_92530_row3_col4\" class=\"data row3 col4\" >5</td>\n",
       "    </tr>\n",
       "    <tr>\n",
       "      <th id=\"T_92530_level0_row4\" class=\"row_heading level0 row4\" rowspan=\"2\">facebook/wav2vec2-large-slavic-voxpopuli-v2</th>\n",
       "      <th id=\"T_92530_level1_row4\" class=\"row_heading level1 row4\" >dev</th>\n",
       "      <td id=\"T_92530_row4_col0\" class=\"data row4 col0\" >0.714851</td>\n",
       "      <td id=\"T_92530_row4_col1\" class=\"data row4 col1\" >0.004428</td>\n",
       "      <td id=\"T_92530_row4_col2\" class=\"data row4 col2\" >0.712841</td>\n",
       "      <td id=\"T_92530_row4_col3\" class=\"data row4 col3\" >0.000427</td>\n",
       "      <td id=\"T_92530_row4_col4\" class=\"data row4 col4\" >5</td>\n",
       "    </tr>\n",
       "    <tr>\n",
       "      <th id=\"T_92530_level1_row5\" class=\"row_heading level1 row5\" >test</th>\n",
       "      <td id=\"T_92530_row5_col0\" class=\"data row5 col0\" >0.683495</td>\n",
       "      <td id=\"T_92530_row5_col1\" class=\"data row5 col1\" >0.047859</td>\n",
       "      <td id=\"T_92530_row5_col2\" class=\"data row5 col2\" >0.636415</td>\n",
       "      <td id=\"T_92530_row5_col3\" class=\"data row5 col3\" >0.053887</td>\n",
       "      <td id=\"T_92530_row5_col4\" class=\"data row5 col4\" >5</td>\n",
       "    </tr>\n",
       "  </tbody>\n",
       "</table>\n"
      ],
      "text/plain": [
       "<pandas.io.formats.style.Styler at 0x7fae999dd6d0>"
      ]
     },
     "execution_count": 237,
     "metadata": {},
     "output_type": "execute_result"
    }
   ],
   "source": [
    "df.groupby([\"model_name_or_path\", \"split\"]).agg(\n",
    "    {\"accuracy\": [\"mean\", \"std\"],\n",
    "     \"macroF1\": [\"mean\", \"std\"],\n",
    "     \"y_pred\": \"count\"}\n",
    ").style.bar(vmin=0.6, subset=[(\"accuracy\", \"mean\"), (\"macroF1\", \"mean\")], cmap=\"Oranges\")"
   ]
  },
  {
   "cell_type": "code",
   "execution_count": 227,
   "metadata": {},
   "outputs": [],
   "source": [
    "# df[[\"model_name_or_path\", \"split\", \"accuracy\", \"macroF1\"]].set_index([\"model_name_or_path\", \"split\"]).sort_index()"
   ]
  },
  {
   "cell_type": "code",
   "execution_count": 228,
   "metadata": {},
   "outputs": [
    {
     "data": {
      "text/html": [
       "<style type=\"text/css\">\n",
       "#T_cd565_row4_col0, #T_cd565_row4_col1, #T_cd565_row5_col0, #T_cd565_row5_col1 {\n",
       "  background-color: red;\n",
       "}\n",
       "</style>\n",
       "<table id=\"T_cd565\">\n",
       "  <thead>\n",
       "    <tr>\n",
       "      <th class=\"blank\" >&nbsp;</th>\n",
       "      <th class=\"blank level0\" >&nbsp;</th>\n",
       "      <th id=\"T_cd565_level0_col0\" class=\"col_heading level0 col0\" >unique predictions</th>\n",
       "      <th id=\"T_cd565_level0_col1\" class=\"col_heading level0 col1\" >num of predictions</th>\n",
       "    </tr>\n",
       "    <tr>\n",
       "      <th class=\"index_name level0\" >model_name_or_path</th>\n",
       "      <th class=\"index_name level1\" >split</th>\n",
       "      <th class=\"blank col0\" >&nbsp;</th>\n",
       "      <th class=\"blank col1\" >&nbsp;</th>\n",
       "    </tr>\n",
       "  </thead>\n",
       "  <tbody>\n",
       "    <tr>\n",
       "      <th id=\"T_cd565_level0_row0\" class=\"row_heading level0 row0\" rowspan=\"2\">classla/wav2vec2-large-slavic-parlaspeech-hr</th>\n",
       "      <th id=\"T_cd565_level1_row0\" class=\"row_heading level1 row0\" >dev</th>\n",
       "      <td id=\"T_cd565_row0_col0\" class=\"data row0 col0\" >4</td>\n",
       "      <td id=\"T_cd565_row0_col1\" class=\"data row0 col1\" >4</td>\n",
       "    </tr>\n",
       "    <tr>\n",
       "      <th id=\"T_cd565_level1_row1\" class=\"row_heading level1 row1\" >test</th>\n",
       "      <td id=\"T_cd565_row1_col0\" class=\"data row1 col0\" >4</td>\n",
       "      <td id=\"T_cd565_row1_col1\" class=\"data row1 col1\" >4</td>\n",
       "    </tr>\n",
       "    <tr>\n",
       "      <th id=\"T_cd565_level0_row2\" class=\"row_heading level0 row2\" rowspan=\"2\">facebook/wav2vec2-large-960h-lv60-self</th>\n",
       "      <th id=\"T_cd565_level1_row2\" class=\"row_heading level1 row2\" >dev</th>\n",
       "      <td id=\"T_cd565_row2_col0\" class=\"data row2 col0\" >5</td>\n",
       "      <td id=\"T_cd565_row2_col1\" class=\"data row2 col1\" >5</td>\n",
       "    </tr>\n",
       "    <tr>\n",
       "      <th id=\"T_cd565_level1_row3\" class=\"row_heading level1 row3\" >test</th>\n",
       "      <td id=\"T_cd565_row3_col0\" class=\"data row3 col0\" >5</td>\n",
       "      <td id=\"T_cd565_row3_col1\" class=\"data row3 col1\" >5</td>\n",
       "    </tr>\n",
       "    <tr>\n",
       "      <th id=\"T_cd565_level0_row4\" class=\"row_heading level0 row4\" rowspan=\"2\">facebook/wav2vec2-large-slavic-voxpopuli-v2</th>\n",
       "      <th id=\"T_cd565_level1_row4\" class=\"row_heading level1 row4\" >dev</th>\n",
       "      <td id=\"T_cd565_row4_col0\" class=\"data row4 col0\" >3</td>\n",
       "      <td id=\"T_cd565_row4_col1\" class=\"data row4 col1\" >5</td>\n",
       "    </tr>\n",
       "    <tr>\n",
       "      <th id=\"T_cd565_level1_row5\" class=\"row_heading level1 row5\" >test</th>\n",
       "      <td id=\"T_cd565_row5_col0\" class=\"data row5 col0\" >3</td>\n",
       "      <td id=\"T_cd565_row5_col1\" class=\"data row5 col1\" >5</td>\n",
       "    </tr>\n",
       "  </tbody>\n",
       "</table>\n"
      ],
      "text/plain": [
       "<pandas.io.formats.style.Styler at 0x7fae9df7c6a0>"
      ]
     },
     "execution_count": 228,
     "metadata": {},
     "output_type": "execute_result"
    }
   ],
   "source": [
    "gb = df.groupby([\"model_name_or_path\", \"split\"]).aggregate({\n",
    "    \"y_pred\": [lambda i: len(i.apply(str).value_counts().tolist()),\n",
    "               lambda i: len(i)]\n",
    "}).rename(columns={\"<lambda_0>\": \"unique predictions\", \"<lambda_1>\": \"num of predictions\"})\n",
    "\n",
    "gb.columns = gb.columns.droplevel(0)\n",
    "\n",
    "\n",
    "gb.style.apply(lambda row: ['background-color: red']*2 if row[0] != row[1] else [None, None], axis=1)"
   ]
  },
  {
   "cell_type": "code",
   "execution_count": 229,
   "metadata": {},
   "outputs": [
    {
     "data": {
      "text/html": [
       "<div>\n",
       "<style scoped>\n",
       "    .dataframe tbody tr th:only-of-type {\n",
       "        vertical-align: middle;\n",
       "    }\n",
       "\n",
       "    .dataframe tbody tr th {\n",
       "        vertical-align: top;\n",
       "    }\n",
       "\n",
       "    .dataframe thead tr th {\n",
       "        text-align: left;\n",
       "    }\n",
       "\n",
       "    .dataframe thead tr:last-of-type th {\n",
       "        text-align: right;\n",
       "    }\n",
       "</style>\n",
       "<table border=\"1\" class=\"dataframe\">\n",
       "  <thead>\n",
       "    <tr>\n",
       "      <th></th>\n",
       "      <th colspan=\"2\" halign=\"left\">y_pred</th>\n",
       "    </tr>\n",
       "    <tr>\n",
       "      <th></th>\n",
       "      <th>unique predictions</th>\n",
       "      <th>num of predictions</th>\n",
       "    </tr>\n",
       "    <tr>\n",
       "      <th>split</th>\n",
       "      <th></th>\n",
       "      <th></th>\n",
       "    </tr>\n",
       "  </thead>\n",
       "  <tbody>\n",
       "    <tr>\n",
       "      <th>dev</th>\n",
       "      <td>12</td>\n",
       "      <td>14</td>\n",
       "    </tr>\n",
       "    <tr>\n",
       "      <th>test</th>\n",
       "      <td>12</td>\n",
       "      <td>14</td>\n",
       "    </tr>\n",
       "  </tbody>\n",
       "</table>\n",
       "</div>"
      ],
      "text/plain": [
       "                  y_pred                   \n",
       "      unique predictions num of predictions\n",
       "split                                      \n",
       "dev                   12                 14\n",
       "test                  12                 14"
      ]
     },
     "execution_count": 229,
     "metadata": {},
     "output_type": "execute_result"
    }
   ],
   "source": [
    "df.groupby([\"split\"]).aggregate({\n",
    "    \"y_pred\": [lambda i: len(i.apply(str).value_counts().tolist()),\n",
    "               lambda i: len(i)]\n",
    "}).rename(columns={\"<lambda_0>\": \"unique predictions\", \"<lambda_1>\": \"num of predictions\"})"
   ]
  },
  {
   "cell_type": "code",
   "execution_count": 230,
   "metadata": {},
   "outputs": [],
   "source": [
    "def get_per_speaker_error_rate(row):\n",
    "    speakers = row[\"speaker_ids\"]\n",
    "    y_true = row[\"y_true\"]\n",
    "    y_pred = row[\"y_pred\"]\n",
    "    \n",
    "    df = pd.DataFrame(data={\n",
    "        \"speaker\": speakers,\n",
    "        \"y_true\": y_true,\n",
    "        \"y_pred\": y_pred\n",
    "    })\n",
    "    df[\"correct\"] = df.y_true == df.y_pred\n",
    "    import numpy as np\n",
    "    return df.groupby(\"speaker\").aggregate({\"correct\": \"mean\"  })\n",
    "\n",
    "correct_breakdown = []\n",
    "\n",
    "for i, row in df.iterrows():\n",
    "    correct_breakdown.append(\n",
    "        get_per_speaker_error_rate(row).correct.to_json()\n",
    "    )\n",
    "df[\"correct_ratio_breakdown\"] = correct_breakdown\n",
    "\n",
    "    \n"
   ]
  },
  {
   "cell_type": "code",
   "execution_count": 231,
   "metadata": {},
   "outputs": [
    {
     "data": {
      "text/plain": [
       "<AxesSubplot:xlabel='speaker', ylabel='correct_ratio'>"
      ]
     },
     "execution_count": 231,
     "metadata": {},
     "output_type": "execute_result"
    },
    {
     "data": {
      "image/png": "[encoded data removed]",
      "text/plain": [
       "<Figure size 432x288 with 1 Axes>"
      ]
     },
     "metadata": {
      "needs_background": "light"
     },
     "output_type": "display_data"
    }
   ],
   "source": [
    "from ast import literal_eval\n",
    "s = df[df.split == \"test\"].correct_ratio_breakdown.apply(literal_eval).apply(pd.Series)\n",
    "# s[\"model_name_or_path\"] = df[df.split==\"test\"].model_name_or_path.tolist()\n",
    "\n",
    "\n",
    "        \n",
    "ndf = s.melt().rename(columns={\n",
    "    \"variable\": \"speaker\",\n",
    "    \"value\": \"correct_ratio\"\n",
    "})\n",
    "models = df[df.split==\"test\"].model_name_or_path.tolist()\n",
    "new_models = [models[i] for j in range(s.columns.shape[0]) for i in range(s.shape[0])]\n",
    "ndf[\"model_name_or_path\"] = new_models\n",
    "import matplotlib.pyplot as plt\n",
    "import seaborn as sns\n",
    "\n",
    "sns.scatterplot(data=ndf, x=\"speaker\", y=\"correct_ratio\", hue=\"model_name_or_path\" )"
   ]
  },
  {
   "cell_type": "code",
   "execution_count": 232,
   "metadata": {},
   "outputs": [
    {
     "data": {
      "text/plain": [
       "(49,)"
      ]
     },
     "execution_count": 232,
     "metadata": {},
     "output_type": "execute_result"
    }
   ],
   "source": [
    "s.columns.shape"
   ]
  },
  {
   "cell_type": "code",
   "execution_count": 243,
   "metadata": {},
   "outputs": [
    {
     "data": {
      "image/png": "[encoded data removed]",
      "text/plain": [
       "<Figure size 360x2160 with 1 Axes>"
      ]
     },
     "metadata": {
      "needs_background": "light"
     },
     "output_type": "display_data"
    }
   ],
   "source": [
    "gb = ndf.groupby(\"speaker\").aggregate({\n",
    "    \"correct_ratio\": [\"mean\", \"std\"]\n",
    "})\n",
    "gb.index = gb.index.astype(int)\n",
    "gb = gb.sort_index()\n",
    "\n",
    "plt.figure(figsize=(5, 30))\n",
    "sns.barplot(data = ndf, y = \"speaker\" , x = \"correct_ratio\", hue=\"model_name_or_path\", ci=\"sd\")\n",
    "plt.title(\"Percentage of correct\\npredictions by speaker and model\")\n",
    "plt.legend(loc=(0, 1.02))\n",
    "plt.xlim((0, None))\n",
    "# plt.tight_layout()\n",
    "plt.savefig(\"images/008_speaker_and_model_correctness.pdf\", dpi=200)\n",
    "plt.show()"
   ]
  },
  {
   "cell_type": "code",
   "execution_count": 234,
   "metadata": {},
   "outputs": [],
   "source": [
    "test_speakers = set(test.speaker_id.tolist())\n",
    "dev_speakers = set(dev.speaker_id.tolist())\n",
    "train_speakers = set(train.speaker_id.tolist())"
   ]
  },
  {
   "cell_type": "code",
   "execution_count": 235,
   "metadata": {},
   "outputs": [
    {
     "name": "stdout",
     "output_type": "stream",
     "text": [
      "test_speakers against dev_speakers: 0 leaked\n",
      "test_speakers against train_speakers: 0 leaked\n",
      "dev_speakers against test_speakers: 0 leaked\n",
      "dev_speakers against train_speakers: 0 leaked\n",
      "train_speakers against test_speakers: 0 leaked\n",
      "train_speakers against dev_speakers: 0 leaked\n"
     ]
    }
   ],
   "source": [
    "d = {\"test_speakers\": test_speakers,\n",
    "     \"dev_speakers\": dev_speakers, \n",
    "     \"train_speakers\": train_speakers}\n",
    "\n",
    "for first in d:\n",
    "    for second in d:\n",
    "        if first == second:\n",
    "            continue\n",
    "        print(f\"{first} against {second}: {len(d[first].intersection(d[second]))} leaked\")"
   ]
  },
  {
   "cell_type": "code",
   "execution_count": null,
   "metadata": {},
   "outputs": [],
   "source": []
  }
 ],
 "metadata": {
  "kernelspec": {
   "display_name": "Python 3.8.3 ('base')",
   "language": "python",
   "name": "python3"
  },
  "language_info": {
   "codemirror_mode": {
    "name": "ipython",
    "version": 3
   },
   "file_extension": ".py",
   "mimetype": "text/x-python",
   "name": "python",
   "nbconvert_exporter": "python",
   "pygments_lexer": "ipython3",
   "version": "3.8.3"
  },
  "orig_nbformat": 4,
  "vscode": {
   "interpreter": {
    "hash": "7f6f5766036ee03d059e365a942add07f79c17033585e9357ee8157d52fe6bb9"
   }
  }
 },
 "nbformat": 4,
 "nbformat_minor": 2
}
