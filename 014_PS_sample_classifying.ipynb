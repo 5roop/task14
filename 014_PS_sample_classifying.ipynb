{
 "cells": [
  {
   "cell_type": "code",
   "execution_count": 10,
   "metadata": {},
   "outputs": [
    {
     "name": "stderr",
     "output_type": "stream",
     "text": [
      "Using custom data configuration default-59eccc379fda4693\n"
     ]
    },
    {
     "name": "stdout",
     "output_type": "stream",
     "text": [
      "Downloading and preparing dataset csv/default to /home/peterr/.cache/huggingface/datasets/csv/default-59eccc379fda4693/0.0.0/433e0ccc46f9880962cc2b12065189766fbb2bee57a221866138fb9203c83519...\n"
     ]
    },
    {
     "data": {
      "application/vnd.jupyter.widget-view+json": {
       "model_id": "3c9640dc79544459b94f86b42f2a3e48",
       "version_major": 2,
       "version_minor": 0
      },
      "text/plain": [
       "  0%|          | 0/1 [00:00<?, ?it/s]"
      ]
     },
     "metadata": {},
     "output_type": "display_data"
    },
    {
     "data": {
      "application/vnd.jupyter.widget-view+json": {
       "model_id": "0494a558d10f43f4a59684c7ce559d40",
       "version_major": 2,
       "version_minor": 0
      },
      "text/plain": [
       "  0%|          | 0/1 [00:00<?, ?it/s]"
      ]
     },
     "metadata": {},
     "output_type": "display_data"
    },
    {
     "name": "stdout",
     "output_type": "stream",
     "text": [
      "Dataset csv downloaded and prepared to /home/peterr/.cache/huggingface/datasets/csv/default-59eccc379fda4693/0.0.0/433e0ccc46f9880962cc2b12065189766fbb2bee57a221866138fb9203c83519. Subsequent calls will reuse this data.\n"
     ]
    },
    {
     "data": {
      "application/vnd.jupyter.widget-view+json": {
       "model_id": "59716e2903e14938b6a74d15fd3b14e0",
       "version_major": 2,
       "version_minor": 0
      },
      "text/plain": [
       "  0%|          | 0/1 [00:00<?, ?it/s]"
      ]
     },
     "metadata": {},
     "output_type": "display_data"
    },
    {
     "name": "stderr",
     "output_type": "stream",
     "text": [
      "Special tokens have been added in the vocabulary, make sure the associated word embeddings are fine-tuned or trained.\n"
     ]
    },
    {
     "data": {
      "application/vnd.jupyter.widget-view+json": {
       "model_id": "e2f87de91f5d42c08036bab8910ab5de",
       "version_major": 2,
       "version_minor": 0
      },
      "text/plain": [
       "0ex [00:00, ?ex/s]"
      ]
     },
     "metadata": {},
     "output_type": "display_data"
    },
    {
     "data": {
      "application/vnd.jupyter.widget-view+json": {
       "model_id": "1620a4cd7c2c483886b42feb5c941b48",
       "version_major": 2,
       "version_minor": 0
      },
      "text/plain": [
       "  0%|          | 0/1000 [00:00<?, ?ba/s]"
      ]
     },
     "metadata": {},
     "output_type": "display_data"
    },
    {
     "data": {
      "text/plain": [
       "neutral    1955\n",
       "anger        43\n",
       "sadness       2\n",
       "dtype: int64"
      ]
     },
     "execution_count": 10,
     "metadata": {},
     "output_type": "execute_result"
    }
   ],
   "source": [
    "from pathlib import Path\n",
    "\n",
    "paths = list(Path(\"./PSsample/\").glob(\"*.wav\"))\n",
    "import pandas as pd\n",
    "pd.DataFrame(data={\"path\": [str(p) for p in paths],\n",
    "                   \"target\": [\"sadness\" for p in paths]}\n",
    "             ).to_csv(\"014_PSs.csv\")\n",
    "    \n",
    "    \n",
    "checkpoints = [\n",
    "    # \"facebook/wav2vec2-large-slavic-voxpopuli-v2\",\n",
    "    # \"facebook/wav2vec2-large-960h-lv60-self\",\n",
    "    \"classla/wav2vec2-large-slavic-parlaspeech-hr\",\n",
    "]\n",
    "optimal_epochs = {\n",
    "    \"facebook/wav2vec2-large-960h-lv60-self\": 9,\n",
    "    \"facebook/wav2vec2-large-slavic-voxpopuli-v2\": 11,\n",
    "    \"classla/wav2vec2-large-slavic-parlaspeech-hr\": 7,  \n",
    "}\n",
    "import os\n",
    "# os.system(\"rm -r models/*\")\n",
    "from utils import train_model, eval_model\n",
    "\n",
    "checkpoint = \"/home/peterr/macocu/task14/models/classla_wav2vec2-large-slavic-parlaspeech-hr_best_model_finding_2_/classla_wav2vec2-large-slavic-parlaspeech-hr_best_model_finding_2_/checkpoint-1225/\"\n",
    "\n",
    "example_eval_config = {\n",
    "    \"output_column\": \"target\",\n",
    "    \"model_name_or_path\":  checkpoint,\n",
    "    \"eval_file\": \"014_PSs.csv\"\n",
    "}\n",
    "\n",
    "y_true, y_pred = eval_model(example_eval_config)\n",
    "\n",
    "pd.Series(y_pred).value_counts()"
   ]
  },
  {
   "cell_type": "code",
   "execution_count": 21,
   "metadata": {},
   "outputs": [],
   "source": [
    "df = pd.read_csv(\"PSsample/PSsample.csv\")\n",
    "df[\"path\"] = df.path.apply(lambda s: \"PSsample/\"+s)"
   ]
  },
  {
   "cell_type": "code",
   "execution_count": 22,
   "metadata": {},
   "outputs": [
    {
     "data": {
      "text/html": [
       "<div>\n",
       "<style scoped>\n",
       "    .dataframe tbody tr th:only-of-type {\n",
       "        vertical-align: middle;\n",
       "    }\n",
       "\n",
       "    .dataframe tbody tr th {\n",
       "        vertical-align: top;\n",
       "    }\n",
       "\n",
       "    .dataframe thead th {\n",
       "        text-align: right;\n",
       "    }\n",
       "</style>\n",
       "<table border=\"1\" class=\"dataframe\">\n",
       "  <thead>\n",
       "    <tr style=\"text-align: right;\">\n",
       "      <th></th>\n",
       "      <th>y_pred</th>\n",
       "    </tr>\n",
       "    <tr>\n",
       "      <th>Speaker_name</th>\n",
       "      <th></th>\n",
       "    </tr>\n",
       "  </thead>\n",
       "  <tbody>\n",
       "    <tr>\n",
       "      <th>Bačić, Branko</th>\n",
       "      <td>{'neutral': 198, 'anger': 2}</td>\n",
       "    </tr>\n",
       "    <tr>\n",
       "      <th>Bulj, Miro</th>\n",
       "      <td>{'neutral': 191, 'anger': 9}</td>\n",
       "    </tr>\n",
       "    <tr>\n",
       "      <th>Bunjac, Branimir</th>\n",
       "      <td>{'neutral': 194, 'anger': 5, 'sadness': 1}</td>\n",
       "    </tr>\n",
       "    <tr>\n",
       "      <th>Lovrinović, Ivan</th>\n",
       "      <td>{'neutral': 194, 'anger': 6}</td>\n",
       "    </tr>\n",
       "    <tr>\n",
       "      <th>Maras, Gordan</th>\n",
       "      <td>{'neutral': 195, 'anger': 5}</td>\n",
       "    </tr>\n",
       "    <tr>\n",
       "      <th>Mrak-Taritaš, Anka</th>\n",
       "      <td>{'neutral': 198, 'sadness': 1, 'anger': 1}</td>\n",
       "    </tr>\n",
       "    <tr>\n",
       "      <th>Panenić, Tomislav</th>\n",
       "      <td>{'neutral': 200}</td>\n",
       "    </tr>\n",
       "    <tr>\n",
       "      <th>Pernar, Ivan</th>\n",
       "      <td>{'neutral': 192, 'anger': 8}</td>\n",
       "    </tr>\n",
       "    <tr>\n",
       "      <th>Čuraj, Stjepan</th>\n",
       "      <td>{'neutral': 194, 'anger': 6}</td>\n",
       "    </tr>\n",
       "    <tr>\n",
       "      <th>Žagar, Tomislav</th>\n",
       "      <td>{'neutral': 199, 'anger': 1}</td>\n",
       "    </tr>\n",
       "  </tbody>\n",
       "</table>\n",
       "</div>"
      ],
      "text/plain": [
       "                                                        y_pred\n",
       "Speaker_name                                                  \n",
       "Bačić, Branko                     {'neutral': 198, 'anger': 2}\n",
       "Bulj, Miro                        {'neutral': 191, 'anger': 9}\n",
       "Bunjac, Branimir    {'neutral': 194, 'anger': 5, 'sadness': 1}\n",
       "Lovrinović, Ivan                  {'neutral': 194, 'anger': 6}\n",
       "Maras, Gordan                     {'neutral': 195, 'anger': 5}\n",
       "Mrak-Taritaš, Anka  {'neutral': 198, 'sadness': 1, 'anger': 1}\n",
       "Panenić, Tomislav                             {'neutral': 200}\n",
       "Pernar, Ivan                      {'neutral': 192, 'anger': 8}\n",
       "Čuraj, Stjepan                    {'neutral': 194, 'anger': 6}\n",
       "Žagar, Tomislav                   {'neutral': 199, 'anger': 1}"
      ]
     },
     "execution_count": 22,
     "metadata": {},
     "output_type": "execute_result"
    }
   ],
   "source": [
    "results = pd.DataFrame(data={\"path\": [str(p) for p in paths],\n",
    "                   \"target\": [\"sadness\" for p in paths],\n",
    "                   \"y_pred\": y_pred}\n",
    "             )\n",
    "\n",
    "df = pd.merge(\n",
    "      right = df,\n",
    "      left = results,\n",
    "      on = \"path\",\n",
    "      how=\"left\"\n",
    ")\n",
    "gb = df.groupby(\"Speaker_name\").agg({\n",
    "      \"y_pred\": lambda l: pd.Series(l).value_counts().to_dict()\n",
    "})\n",
    "gb"
   ]
  },
  {
   "cell_type": "code",
   "execution_count": 23,
   "metadata": {},
   "outputs": [
    {
     "data": {
      "text/html": [
       "<div>\n",
       "<style scoped>\n",
       "    .dataframe tbody tr th:only-of-type {\n",
       "        vertical-align: middle;\n",
       "    }\n",
       "\n",
       "    .dataframe tbody tr th {\n",
       "        vertical-align: top;\n",
       "    }\n",
       "\n",
       "    .dataframe thead th {\n",
       "        text-align: right;\n",
       "    }\n",
       "</style>\n",
       "<table border=\"1\" class=\"dataframe\">\n",
       "  <thead>\n",
       "    <tr style=\"text-align: right;\">\n",
       "      <th></th>\n",
       "      <th>path</th>\n",
       "      <th>target</th>\n",
       "      <th>y_pred</th>\n",
       "      <th>Unnamed: 0</th>\n",
       "      <th>orig_file</th>\n",
       "      <th>start</th>\n",
       "      <th>end</th>\n",
       "      <th>words</th>\n",
       "      <th>word_start_times</th>\n",
       "      <th>norm_words</th>\n",
       "      <th>...</th>\n",
       "      <th>split</th>\n",
       "      <th>norm_words_edited</th>\n",
       "      <th>Speaker_role</th>\n",
       "      <th>Speaker_type</th>\n",
       "      <th>Speaker_party</th>\n",
       "      <th>Speaker_party_name</th>\n",
       "      <th>Party_status</th>\n",
       "      <th>Speaker_name</th>\n",
       "      <th>Speaker_gender</th>\n",
       "      <th>Speaker_birth</th>\n",
       "    </tr>\n",
       "  </thead>\n",
       "  <tbody>\n",
       "    <tr>\n",
       "      <th>0</th>\n",
       "      <td>ROfl1iWhWyw_12050.25-12056.19.wav</td>\n",
       "      <td>sadness</td>\n",
       "      <td>neutral</td>\n",
       "      <td>240235</td>\n",
       "      <td>23 10 2019 - 1. dio, 14. sjednica, 9. saziv [R...</td>\n",
       "      <td>12050.25</td>\n",
       "      <td>12056.19</td>\n",
       "      <td>['koja', 'ima', 'nekih', '369', 'EUR-a', 'po',...</td>\n",
       "      <td>[0, 0.19, 0.33, 0.81, 2.41, 2.7, 2.83, 3.28000...</td>\n",
       "      <td>['koja', 'ima', 'nekih', 'tristo', 'šezdeset',...</td>\n",
       "      <td>...</td>\n",
       "      <td>train</td>\n",
       "      <td>NaN</td>\n",
       "      <td>Regular</td>\n",
       "      <td>MP</td>\n",
       "      <td>HNS</td>\n",
       "      <td>Klub Hrvatske narodne stranke - liberalnih dem...</td>\n",
       "      <td>Coalition</td>\n",
       "      <td>Čuraj, Stjepan</td>\n",
       "      <td>M</td>\n",
       "      <td>1980</td>\n",
       "    </tr>\n",
       "    <tr>\n",
       "      <th>1</th>\n",
       "      <td>UPHLmUzadcg_7063.96-7082.57.wav</td>\n",
       "      <td>sadness</td>\n",
       "      <td>neutral</td>\n",
       "      <td>228568</td>\n",
       "      <td>1 3 2018 - 1. dio, 7. sjednica, 9. saziv [UPHL...</td>\n",
       "      <td>7063.96</td>\n",
       "      <td>7082.57</td>\n",
       "      <td>['vi', 'morate', 'to', 'prijaviti', 'naravno,'...</td>\n",
       "      <td>[0, 0.96, 1.4100000000000001, 1.58, 2.02, 2.36...</td>\n",
       "      <td>['vi', 'morate', 'to', 'prijaviti', 'naravno',...</td>\n",
       "      <td>...</td>\n",
       "      <td>train</td>\n",
       "      <td>NaN</td>\n",
       "      <td>Regular</td>\n",
       "      <td>MP</td>\n",
       "      <td>Nezavisni</td>\n",
       "      <td>Klub nezavisnih</td>\n",
       "      <td>Opposition</td>\n",
       "      <td>Pernar, Ivan</td>\n",
       "      <td>M</td>\n",
       "      <td>1985</td>\n",
       "    </tr>\n",
       "    <tr>\n",
       "      <th>2</th>\n",
       "      <td>LiGw8Wnne9c_8047.72-8067.17.wav</td>\n",
       "      <td>sadness</td>\n",
       "      <td>neutral</td>\n",
       "      <td>288441</td>\n",
       "      <td>5 2 2020 - 2. dio, 16. sjednica, 9. saziv [LiG...</td>\n",
       "      <td>8047.72</td>\n",
       "      <td>8067.17</td>\n",
       "      <td>['zaustaviti', 'hitno', 'neracionalnost,', 'ra...</td>\n",
       "      <td>[0, 0.7000000000000001, 1.5, 2.49, 3.14, 4.37,...</td>\n",
       "      <td>['zaustaviti', 'hitno', 'neracionalnost', 'ras...</td>\n",
       "      <td>...</td>\n",
       "      <td>train</td>\n",
       "      <td>NaN</td>\n",
       "      <td>Regular</td>\n",
       "      <td>MP</td>\n",
       "      <td>Živi zid i PH</td>\n",
       "      <td>Klub zastupnika Živog zida i Promijenimo Hrvatsku</td>\n",
       "      <td>Opposition</td>\n",
       "      <td>Lovrinović, Ivan</td>\n",
       "      <td>M</td>\n",
       "      <td>1960</td>\n",
       "    </tr>\n",
       "    <tr>\n",
       "      <th>3</th>\n",
       "      <td>LZETjGQNaNk_20735.4-20755.38.wav</td>\n",
       "      <td>sadness</td>\n",
       "      <td>neutral</td>\n",
       "      <td>344642</td>\n",
       "      <td>28 6 2018 - 2. dio, 8. sjednica, 9. saziv [LZE...</td>\n",
       "      <td>20735.40</td>\n",
       "      <td>20755.38</td>\n",
       "      <td>['dao', 'taj', 'većinski', 'paket', 'i', 'otiš...</td>\n",
       "      <td>[0, 0.30000000000000004, 0.49, 0.99, 1.42, 1.4...</td>\n",
       "      <td>['dao', 'taj', 'većinski', 'paket', 'i', 'otiš...</td>\n",
       "      <td>...</td>\n",
       "      <td>train</td>\n",
       "      <td>NaN</td>\n",
       "      <td>Regular</td>\n",
       "      <td>MP</td>\n",
       "      <td>Most</td>\n",
       "      <td>Klub Mosta nezavisnih lista</td>\n",
       "      <td>Opposition</td>\n",
       "      <td>Bulj, Miro</td>\n",
       "      <td>M</td>\n",
       "      <td>1972</td>\n",
       "    </tr>\n",
       "    <tr>\n",
       "      <th>4</th>\n",
       "      <td>lLuRksi0rvY_5215.06-5231.45.wav</td>\n",
       "      <td>sadness</td>\n",
       "      <td>neutral</td>\n",
       "      <td>257248</td>\n",
       "      <td>27 6 2018 - 1. dio, 8. sjednica, 9. saziv [lLu...</td>\n",
       "      <td>5215.06</td>\n",
       "      <td>5231.45</td>\n",
       "      <td>['o', 'tim', 'krajevima', 'nego', 'sada', 'ovi...</td>\n",
       "      <td>[0, 0.13, 0.38, 1.33, 1.58, 1.81, 1.9500000000...</td>\n",
       "      <td>['o', 'tim', 'krajevima', 'nego', 'sada', 'ovi...</td>\n",
       "      <td>...</td>\n",
       "      <td>train</td>\n",
       "      <td>NaN</td>\n",
       "      <td>Regular</td>\n",
       "      <td>MP</td>\n",
       "      <td>Most</td>\n",
       "      <td>Klub Mosta nezavisnih lista</td>\n",
       "      <td>Opposition</td>\n",
       "      <td>Bulj, Miro</td>\n",
       "      <td>M</td>\n",
       "      <td>1972</td>\n",
       "    </tr>\n",
       "  </tbody>\n",
       "</table>\n",
       "<p>5 rows × 24 columns</p>\n",
       "</div>"
      ],
      "text/plain": [
       "                                path   target   y_pred  Unnamed: 0  \\\n",
       "0  ROfl1iWhWyw_12050.25-12056.19.wav  sadness  neutral      240235   \n",
       "1    UPHLmUzadcg_7063.96-7082.57.wav  sadness  neutral      228568   \n",
       "2    LiGw8Wnne9c_8047.72-8067.17.wav  sadness  neutral      288441   \n",
       "3   LZETjGQNaNk_20735.4-20755.38.wav  sadness  neutral      344642   \n",
       "4    lLuRksi0rvY_5215.06-5231.45.wav  sadness  neutral      257248   \n",
       "\n",
       "                                           orig_file     start       end  \\\n",
       "0  23 10 2019 - 1. dio, 14. sjednica, 9. saziv [R...  12050.25  12056.19   \n",
       "1  1 3 2018 - 1. dio, 7. sjednica, 9. saziv [UPHL...   7063.96   7082.57   \n",
       "2  5 2 2020 - 2. dio, 16. sjednica, 9. saziv [LiG...   8047.72   8067.17   \n",
       "3  28 6 2018 - 2. dio, 8. sjednica, 9. saziv [LZE...  20735.40  20755.38   \n",
       "4  27 6 2018 - 1. dio, 8. sjednica, 9. saziv [lLu...   5215.06   5231.45   \n",
       "\n",
       "                                               words  \\\n",
       "0  ['koja', 'ima', 'nekih', '369', 'EUR-a', 'po',...   \n",
       "1  ['vi', 'morate', 'to', 'prijaviti', 'naravno,'...   \n",
       "2  ['zaustaviti', 'hitno', 'neracionalnost,', 'ra...   \n",
       "3  ['dao', 'taj', 'većinski', 'paket', 'i', 'otiš...   \n",
       "4  ['o', 'tim', 'krajevima', 'nego', 'sada', 'ovi...   \n",
       "\n",
       "                                    word_start_times  \\\n",
       "0  [0, 0.19, 0.33, 0.81, 2.41, 2.7, 2.83, 3.28000...   \n",
       "1  [0, 0.96, 1.4100000000000001, 1.58, 2.02, 2.36...   \n",
       "2  [0, 0.7000000000000001, 1.5, 2.49, 3.14, 4.37,...   \n",
       "3  [0, 0.30000000000000004, 0.49, 0.99, 1.42, 1.4...   \n",
       "4  [0, 0.13, 0.38, 1.33, 1.58, 1.81, 1.9500000000...   \n",
       "\n",
       "                                          norm_words  ...  split  \\\n",
       "0  ['koja', 'ima', 'nekih', 'tristo', 'šezdeset',...  ...  train   \n",
       "1  ['vi', 'morate', 'to', 'prijaviti', 'naravno',...  ...  train   \n",
       "2  ['zaustaviti', 'hitno', 'neracionalnost', 'ras...  ...  train   \n",
       "3  ['dao', 'taj', 'većinski', 'paket', 'i', 'otiš...  ...  train   \n",
       "4  ['o', 'tim', 'krajevima', 'nego', 'sada', 'ovi...  ...  train   \n",
       "\n",
       "  norm_words_edited Speaker_role Speaker_type  Speaker_party  \\\n",
       "0               NaN      Regular           MP            HNS   \n",
       "1               NaN      Regular           MP      Nezavisni   \n",
       "2               NaN      Regular           MP  Živi zid i PH   \n",
       "3               NaN      Regular           MP           Most   \n",
       "4               NaN      Regular           MP           Most   \n",
       "\n",
       "                                  Speaker_party_name Party_status  \\\n",
       "0  Klub Hrvatske narodne stranke - liberalnih dem...    Coalition   \n",
       "1                                    Klub nezavisnih   Opposition   \n",
       "2  Klub zastupnika Živog zida i Promijenimo Hrvatsku   Opposition   \n",
       "3                        Klub Mosta nezavisnih lista   Opposition   \n",
       "4                        Klub Mosta nezavisnih lista   Opposition   \n",
       "\n",
       "       Speaker_name Speaker_gender Speaker_birth  \n",
       "0    Čuraj, Stjepan              M          1980  \n",
       "1      Pernar, Ivan              M          1985  \n",
       "2  Lovrinović, Ivan              M          1960  \n",
       "3        Bulj, Miro              M          1972  \n",
       "4        Bulj, Miro              M          1972  \n",
       "\n",
       "[5 rows x 24 columns]"
      ]
     },
     "execution_count": 23,
     "metadata": {},
     "output_type": "execute_result"
    }
   ],
   "source": [
    "df[\"path\"] = df.path.apply(lambda s: s[9:])\n",
    "df.head()"
   ]
  },
  {
   "cell_type": "code",
   "execution_count": 24,
   "metadata": {},
   "outputs": [],
   "source": [
    "df[[\"path\", \"y_pred\"]].to_csv(\"PSsample/results.csv\", index=False)"
   ]
  }
 ],
 "metadata": {
  "kernelspec": {
   "display_name": "Python 3.8.3 ('base')",
   "language": "python",
   "name": "python3"
  },
  "language_info": {
   "codemirror_mode": {
    "name": "ipython",
    "version": 3
   },
   "file_extension": ".py",
   "mimetype": "text/x-python",
   "name": "python",
   "nbconvert_exporter": "python",
   "pygments_lexer": "ipython3",
   "version": "3.8.3"
  },
  "orig_nbformat": 4,
  "vscode": {
   "interpreter": {
    "hash": "7f6f5766036ee03d059e365a942add07f79c17033585e9357ee8157d52fe6bb9"
   }
  }
 },
 "nbformat": 4,
 "nbformat_minor": 2
}
