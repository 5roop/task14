{
 "cells": [
  {
   "cell_type": "code",
   "execution_count": null,
   "metadata": {},
   "outputs": [],
   "source": [
    "import pandas as pd    \n",
    "checkpoints = [\n",
    "    # \"facebook/wav2vec2-large-slavic-voxpopuli-v2\",\n",
    "    # \"facebook/wav2vec2-large-960h-lv60-self\",\n",
    "    # \"classla/wav2vec2-large-slavic-parlaspeech-hr\",\n",
    "    \"facebook/hubert-large-ls960-ft\",\n",
    "    \"facebook/hubert-xlarge-ls960-ft\",\n",
    "]\n",
    "optimal_epochs = {\n",
    "    \"facebook/wav2vec2-large-960h-lv60-self\": 9,\n",
    "    \"facebook/wav2vec2-large-slavic-voxpopuli-v2\": 11,\n",
    "    \"classla/wav2vec2-large-slavic-parlaspeech-hr\": 7,  \n",
    "    \"facebook/hubert-large-ls960-ft\": 10,\n",
    "    \"facebook/hubert-xlarge-ls960-ft\": 10,\n",
    "    \n",
    "}\n",
    "from utils import train_model, eval_model\n",
    "from hubertutils import train_model as hu_train_model, eval_model as hu_eval_model\n",
    "for checkpoint in checkpoints * 10:\n",
    "    import os\n",
    "    os.system(\"rm -r models/*\")\n",
    "    train_config = dict(\n",
    "        model_name_or_path = checkpoint,\n",
    "        TASK = \"emotion_10_epochs\",\n",
    "        NUM_EPOCH = optimal_epochs.get(checkpoint),\n",
    "        output_column = \"target\",\n",
    "        input_column = \"path\",\n",
    "        data_files = {\n",
    "            \"train\": \"007_train.csv\",\n",
    "            \"validation\": \"007_dev.csv\",\n",
    "        },\n",
    "        clip_seconds = 10\n",
    "    )\n",
    "\n",
    "    output_dir = hu_train_model(train_config)\n",
    "    import numpy as np\n",
    "    from pathlib import Path\n",
    "    found_path = str(list(Path(output_dir).glob(\"checkpoint-*\"))[0])\n",
    "    for split in \"dev test\".split():\n",
    "        results = []\n",
    "        # print(f\"For checkpoint: {checkpoint} a path was found: \", found_path)\n",
    "        eval_config = dict(\n",
    "            output_column = \"target\",\n",
    "            model_name_or_path= found_path ,\n",
    "            eval_file= f\"007_{split}.csv\"\n",
    "        )\n",
    "\n",
    "        y_true, y_pred = hu_eval_model(eval_config)\n",
    "        import datetime\n",
    "        time = str(datetime.datetime.now())\n",
    "        results.append(\n",
    "            {\n",
    "                **eval_config, \n",
    "                **train_config,\n",
    "                \"split\": split,\n",
    "                \"y_true\": y_true, \n",
    "                \"y_pred\": y_pred,\n",
    "                \"time\": time,\n",
    "                        })\n",
    "        content = pd.DataFrame(data=results).to_json(None, \n",
    "                                           orient=\"records\",\n",
    "                                           lines=True,\n",
    "                                           )\n",
    "        with open(\"009_hubert_training.jsonl\", \"a\") as f:\n",
    "            f.writelines(content)"
   ]
  },
  {
   "cell_type": "code",
   "execution_count": null,
   "metadata": {},
   "outputs": [],
   "source": []
  }
 ],
 "metadata": {
  "kernelspec": {
   "display_name": "Python 3.8.3 ('base')",
   "language": "python",
   "name": "python3"
  },
  "language_info": {
   "codemirror_mode": {
    "name": "ipython",
    "version": 3
   },
   "file_extension": ".py",
   "mimetype": "text/x-python",
   "name": "python",
   "nbconvert_exporter": "python",
   "pygments_lexer": "ipython3",
   "version": "3.8.3"
  },
  "orig_nbformat": 4,
  "vscode": {
   "interpreter": {
    "hash": "7f6f5766036ee03d059e365a942add07f79c17033585e9357ee8157d52fe6bb9"
   }
  }
 },
 "nbformat": 4,
 "nbformat_minor": 2
}
