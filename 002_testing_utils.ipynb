{
 "cells": [
  {
   "cell_type": "code",
   "execution_count": 1,
   "metadata": {},
   "outputs": [
    {
     "name": "stderr",
     "output_type": "stream",
     "text": [
      "Using custom data configuration default-ca47a7a6555e75ab\n",
      "Reusing dataset csv (/home/peterr/.cache/huggingface/datasets/csv/default-ca47a7a6555e75ab/0.0.0/433e0ccc46f9880962cc2b12065189766fbb2bee57a221866138fb9203c83519)\n"
     ]
    },
    {
     "data": {
      "application/vnd.jupyter.widget-view+json": {
       "model_id": "1182e811b4df42868f398cf12b2102f2",
       "version_major": 2,
       "version_minor": 0
      },
      "text/plain": [
       "  0%|          | 0/2 [00:00<?, ?it/s]"
      ]
     },
     "metadata": {},
     "output_type": "display_data"
    },
    {
     "name": "stdout",
     "output_type": "stream",
     "text": [
      "A classification problem with 5 classes: ['anger', 'fear', 'happiness', 'neutral', 'sadness']\n"
     ]
    },
    {
     "name": "stderr",
     "output_type": "stream",
     "text": [
      "/home/peterr/anaconda3/lib/python3.8/site-packages/transformers/models/wav2vec2/processing_wav2vec2.py:52: FutureWarning: Loading a tokenizer inside Wav2Vec2Processor from a config that does not include a `tokenizer_class` attribute is deprecated and will be removed in v5. Please add `'tokenizer_class': 'Wav2Vec2CTCTokenizer'` attribute to either your `config.json` or `tokenizer_config.json` file to suppress this warning: \n",
      "  warnings.warn(\n",
      "Special tokens have been added in the vocabulary, make sure the associated word embeddings are fine-tuned or trained.\n",
      "Loading cached processed dataset at /home/peterr/.cache/huggingface/datasets/csv/default-ca47a7a6555e75ab/0.0.0/433e0ccc46f9880962cc2b12065189766fbb2bee57a221866138fb9203c83519/cache-61b2b7bfd1da0e57.arrow\n",
      "Loading cached processed dataset at /home/peterr/.cache/huggingface/datasets/csv/default-ca47a7a6555e75ab/0.0.0/433e0ccc46f9880962cc2b12065189766fbb2bee57a221866138fb9203c83519/cache-2d102cc2fa56adb5.arrow\n",
      "Loading cached processed dataset at /home/peterr/.cache/huggingface/datasets/csv/default-ca47a7a6555e75ab/0.0.0/433e0ccc46f9880962cc2b12065189766fbb2bee57a221866138fb9203c83519/cache-47b227fa702dc625.arrow\n",
      "Loading cached processed dataset at /home/peterr/.cache/huggingface/datasets/csv/default-ca47a7a6555e75ab/0.0.0/433e0ccc46f9880962cc2b12065189766fbb2bee57a221866138fb9203c83519/cache-3a82850bdf7b2b94.arrow\n",
      "Loading cached processed dataset at /home/peterr/.cache/huggingface/datasets/csv/default-ca47a7a6555e75ab/0.0.0/433e0ccc46f9880962cc2b12065189766fbb2bee57a221866138fb9203c83519/cache-2046ee78d3deff77.arrow\n",
      "Loading cached processed dataset at /home/peterr/.cache/huggingface/datasets/csv/default-ca47a7a6555e75ab/0.0.0/433e0ccc46f9880962cc2b12065189766fbb2bee57a221866138fb9203c83519/cache-1b2fae1fbca5135a.arrow\n",
      "Loading cached processed dataset at /home/peterr/.cache/huggingface/datasets/csv/default-ca47a7a6555e75ab/0.0.0/433e0ccc46f9880962cc2b12065189766fbb2bee57a221866138fb9203c83519/cache-5cc7be01ac6f1fc8.arrow\n",
      "Loading cached processed dataset at /home/peterr/.cache/huggingface/datasets/csv/default-ca47a7a6555e75ab/0.0.0/433e0ccc46f9880962cc2b12065189766fbb2bee57a221866138fb9203c83519/cache-916c04b4f400dc99.arrow\n"
     ]
    },
    {
     "name": "stdout",
     "output_type": "stream",
     "text": [
      "The target sampling rate: 16000\n"
     ]
    },
    {
     "name": "stderr",
     "output_type": "stream",
     "text": [
      "Some weights of the model checkpoint at facebook/wav2vec2-large-slavic-voxpopuli-v2 were not used when initializing Wav2Vec2ForSpeechClassification: ['quantizer.codevectors', 'quantizer.weight_proj.weight', 'project_q.weight', 'project_q.bias', 'project_hid.bias', 'project_hid.weight', 'quantizer.weight_proj.bias']\n",
      "- This IS expected if you are initializing Wav2Vec2ForSpeechClassification from the checkpoint of a model trained on another task or with another architecture (e.g. initializing a BertForSequenceClassification model from a BertForPreTraining model).\n",
      "- This IS NOT expected if you are initializing Wav2Vec2ForSpeechClassification from the checkpoint of a model that you expect to be exactly identical (initializing a BertForSequenceClassification model from a BertForSequenceClassification model).\n",
      "Some weights of Wav2Vec2ForSpeechClassification were not initialized from the model checkpoint at facebook/wav2vec2-large-slavic-voxpopuli-v2 and are newly initialized: ['classifier.out_proj.bias', 'classifier.dense.bias', 'classifier.dense.weight', 'classifier.out_proj.weight']\n",
      "You should probably TRAIN this model on a down-stream task to be able to use it for predictions and inference.\n",
      "Using amp half precision backend\n",
      "The following columns in the training set don't have a corresponding argument in `Wav2Vec2ForSpeechClassification.forward` and have been ignored: utterance_id, expression, arousal_annotation_phase, split, valence_annotation_phase, speaker_id, Unnamed: 0, gender, discrete_emotion_annotation_phase, age, discrete_emotion_collection_phase, target, manual_transcription, path. If utterance_id, expression, arousal_annotation_phase, split, valence_annotation_phase, speaker_id, Unnamed: 0, gender, discrete_emotion_annotation_phase, age, discrete_emotion_collection_phase, target, manual_transcription, path are not expected by `Wav2Vec2ForSpeechClassification.forward`,  you can safely ignore this message.\n",
      "/home/peterr/anaconda3/lib/python3.8/site-packages/transformers/optimization.py:306: FutureWarning: This implementation of AdamW is deprecated and will be removed in a future version. Use the PyTorch implementation torch.optim.AdamW instead, or set `no_deprecation_warning=True` to disable this warning\n",
      "  warnings.warn(\n",
      "***** Running training *****\n",
      "  Num examples = 704\n",
      "  Num Epochs = 15\n",
      "  Instantaneous batch size per device = 2\n",
      "  Total train batch size (w. parallel, distributed & accumulation) = 4\n",
      "  Gradient Accumulation steps = 2\n",
      "  Total optimization steps = 2640\n",
      "Automatic Weights & Biases logging enabled, to disable set os.environ[\"WANDB_DISABLED\"] = \"true\"\n",
      "Failed to detect the name of this notebook, you can set it manually with the WANDB_NOTEBOOK_NAME environment variable to enable code saving.\n",
      "/home/peterr/anaconda3/lib/python3.8/site-packages/numpy/core/getlimits.py:499: UserWarning: The value of the smallest subnormal for <class 'numpy.float32'> type is zero.\n",
      "  setattr(self, word, getattr(machar, word).flat[0])\n",
      "/home/peterr/anaconda3/lib/python3.8/site-packages/numpy/core/getlimits.py:89: UserWarning: The value of the smallest subnormal for <class 'numpy.float32'> type is zero.\n",
      "  return self._float_to_str(self.smallest_subnormal)\n",
      "/home/peterr/anaconda3/lib/python3.8/site-packages/numpy/core/getlimits.py:499: UserWarning: The value of the smallest subnormal for <class 'numpy.float64'> type is zero.\n",
      "  setattr(self, word, getattr(machar, word).flat[0])\n",
      "/home/peterr/anaconda3/lib/python3.8/site-packages/numpy/core/getlimits.py:89: UserWarning: The value of the smallest subnormal for <class 'numpy.float64'> type is zero.\n",
      "  return self._float_to_str(self.smallest_subnormal)\n",
      "\u001b[34m\u001b[1mwandb\u001b[0m: Currently logged in as: \u001b[33m5roop\u001b[0m. Use \u001b[1m`wandb login --relogin`\u001b[0m to force relogin\n"
     ]
    },
    {
     "data": {
      "text/html": [
       "Tracking run with wandb version 0.13.2"
      ],
      "text/plain": [
       "<IPython.core.display.HTML object>"
      ]
     },
     "metadata": {},
     "output_type": "display_data"
    },
    {
     "data": {
      "text/html": [
       "Run data is saved locally in <code>/home/peterr/macocu/task14/wandb/run-20220823_093139-3ch7qkvo</code>"
      ],
      "text/plain": [
       "<IPython.core.display.HTML object>"
      ]
     },
     "metadata": {},
     "output_type": "display_data"
    },
    {
     "data": {
      "text/html": [
       "Syncing run <strong><a href=\"https://wandb.ai/5roop/huggingface/runs/3ch7qkvo\" target=\"_blank\">models/facebook_wav2vec2-large-slavic-voxpopuli-v2_emotion_15epochs_</a></strong> to <a href=\"https://wandb.ai/5roop/huggingface\" target=\"_blank\">Weights & Biases</a> (<a href=\"https://wandb.me/run\" target=\"_blank\">docs</a>)<br/>"
      ],
      "text/plain": [
       "<IPython.core.display.HTML object>"
      ]
     },
     "metadata": {},
     "output_type": "display_data"
    },
    {
     "data": {
      "text/html": [
       "\n",
       "    <div>\n",
       "      \n",
       "      <progress value='2640' max='2640' style='width:300px; height:20px; vertical-align: middle;'></progress>\n",
       "      [2640/2640 25:42, Epoch 15/15]\n",
       "    </div>\n",
       "    <table border=\"1\" class=\"dataframe\">\n",
       "  <thead>\n",
       " <tr style=\"text-align: left;\">\n",
       "      <th>Epoch</th>\n",
       "      <th>Training Loss</th>\n",
       "      <th>Validation Loss</th>\n",
       "      <th>Accuracy</th>\n",
       "    </tr>\n",
       "  </thead>\n",
       "  <tbody>\n",
       "    <tr>\n",
       "      <td>1</td>\n",
       "      <td>1.513800</td>\n",
       "      <td>1.382234</td>\n",
       "      <td>0.435644</td>\n",
       "    </tr>\n",
       "    <tr>\n",
       "      <td>2</td>\n",
       "      <td>0.850200</td>\n",
       "      <td>1.118216</td>\n",
       "      <td>0.594059</td>\n",
       "    </tr>\n",
       "    <tr>\n",
       "      <td>3</td>\n",
       "      <td>0.510000</td>\n",
       "      <td>1.323267</td>\n",
       "      <td>0.648515</td>\n",
       "    </tr>\n",
       "    <tr>\n",
       "      <td>4</td>\n",
       "      <td>0.878400</td>\n",
       "      <td>1.400016</td>\n",
       "      <td>0.663366</td>\n",
       "    </tr>\n",
       "    <tr>\n",
       "      <td>5</td>\n",
       "      <td>0.543000</td>\n",
       "      <td>1.278599</td>\n",
       "      <td>0.688119</td>\n",
       "    </tr>\n",
       "    <tr>\n",
       "      <td>6</td>\n",
       "      <td>0.401900</td>\n",
       "      <td>1.456863</td>\n",
       "      <td>0.717822</td>\n",
       "    </tr>\n",
       "    <tr>\n",
       "      <td>7</td>\n",
       "      <td>0.402400</td>\n",
       "      <td>1.730018</td>\n",
       "      <td>0.698020</td>\n",
       "    </tr>\n",
       "    <tr>\n",
       "      <td>8</td>\n",
       "      <td>0.386600</td>\n",
       "      <td>1.922017</td>\n",
       "      <td>0.683168</td>\n",
       "    </tr>\n",
       "    <tr>\n",
       "      <td>9</td>\n",
       "      <td>0.115900</td>\n",
       "      <td>1.916225</td>\n",
       "      <td>0.717822</td>\n",
       "    </tr>\n",
       "    <tr>\n",
       "      <td>10</td>\n",
       "      <td>0.364900</td>\n",
       "      <td>2.163896</td>\n",
       "      <td>0.693069</td>\n",
       "    </tr>\n",
       "    <tr>\n",
       "      <td>11</td>\n",
       "      <td>0.216200</td>\n",
       "      <td>1.941675</td>\n",
       "      <td>0.722772</td>\n",
       "    </tr>\n",
       "    <tr>\n",
       "      <td>12</td>\n",
       "      <td>0.200900</td>\n",
       "      <td>1.975546</td>\n",
       "      <td>0.722772</td>\n",
       "    </tr>\n",
       "    <tr>\n",
       "      <td>13</td>\n",
       "      <td>0.177700</td>\n",
       "      <td>2.099440</td>\n",
       "      <td>0.717822</td>\n",
       "    </tr>\n",
       "    <tr>\n",
       "      <td>14</td>\n",
       "      <td>0.089200</td>\n",
       "      <td>2.068162</td>\n",
       "      <td>0.722772</td>\n",
       "    </tr>\n",
       "    <tr>\n",
       "      <td>15</td>\n",
       "      <td>0.246100</td>\n",
       "      <td>2.087250</td>\n",
       "      <td>0.712871</td>\n",
       "    </tr>\n",
       "  </tbody>\n",
       "</table><p>"
      ],
      "text/plain": [
       "<IPython.core.display.HTML object>"
      ]
     },
     "metadata": {},
     "output_type": "display_data"
    },
    {
     "name": "stderr",
     "output_type": "stream",
     "text": [
      "The following columns in the evaluation set don't have a corresponding argument in `Wav2Vec2ForSpeechClassification.forward` and have been ignored: utterance_id, expression, arousal_annotation_phase, split, valence_annotation_phase, speaker_id, Unnamed: 0, gender, discrete_emotion_annotation_phase, age, discrete_emotion_collection_phase, target, manual_transcription, path. If utterance_id, expression, arousal_annotation_phase, split, valence_annotation_phase, speaker_id, Unnamed: 0, gender, discrete_emotion_annotation_phase, age, discrete_emotion_collection_phase, target, manual_transcription, path are not expected by `Wav2Vec2ForSpeechClassification.forward`,  you can safely ignore this message.\n",
      "***** Running Evaluation *****\n",
      "  Num examples = 202\n",
      "  Batch size = 2\n",
      "Saving model checkpoint to models/facebook_wav2vec2-large-slavic-voxpopuli-v2_emotion_15epochs_/checkpoint-176\n",
      "Configuration saved in models/facebook_wav2vec2-large-slavic-voxpopuli-v2_emotion_15epochs_/checkpoint-176/config.json\n",
      "Model weights saved in models/facebook_wav2vec2-large-slavic-voxpopuli-v2_emotion_15epochs_/checkpoint-176/pytorch_model.bin\n",
      "Feature extractor saved in models/facebook_wav2vec2-large-slavic-voxpopuli-v2_emotion_15epochs_/checkpoint-176/preprocessor_config.json\n",
      "Deleting older checkpoint [models/facebook_wav2vec2-large-slavic-voxpopuli-v2_emotion_15epochs_/checkpoint-2640] due to args.save_total_limit\n",
      "The following columns in the evaluation set don't have a corresponding argument in `Wav2Vec2ForSpeechClassification.forward` and have been ignored: utterance_id, expression, arousal_annotation_phase, split, valence_annotation_phase, speaker_id, Unnamed: 0, gender, discrete_emotion_annotation_phase, age, discrete_emotion_collection_phase, target, manual_transcription, path. If utterance_id, expression, arousal_annotation_phase, split, valence_annotation_phase, speaker_id, Unnamed: 0, gender, discrete_emotion_annotation_phase, age, discrete_emotion_collection_phase, target, manual_transcription, path are not expected by `Wav2Vec2ForSpeechClassification.forward`,  you can safely ignore this message.\n",
      "***** Running Evaluation *****\n",
      "  Num examples = 202\n",
      "  Batch size = 2\n",
      "Saving model checkpoint to models/facebook_wav2vec2-large-slavic-voxpopuli-v2_emotion_15epochs_/checkpoint-352\n",
      "Configuration saved in models/facebook_wav2vec2-large-slavic-voxpopuli-v2_emotion_15epochs_/checkpoint-352/config.json\n",
      "Model weights saved in models/facebook_wav2vec2-large-slavic-voxpopuli-v2_emotion_15epochs_/checkpoint-352/pytorch_model.bin\n",
      "Feature extractor saved in models/facebook_wav2vec2-large-slavic-voxpopuli-v2_emotion_15epochs_/checkpoint-352/preprocessor_config.json\n",
      "Deleting older checkpoint [models/facebook_wav2vec2-large-slavic-voxpopuli-v2_emotion_15epochs_/checkpoint-176] due to args.save_total_limit\n",
      "The following columns in the evaluation set don't have a corresponding argument in `Wav2Vec2ForSpeechClassification.forward` and have been ignored: utterance_id, expression, arousal_annotation_phase, split, valence_annotation_phase, speaker_id, Unnamed: 0, gender, discrete_emotion_annotation_phase, age, discrete_emotion_collection_phase, target, manual_transcription, path. If utterance_id, expression, arousal_annotation_phase, split, valence_annotation_phase, speaker_id, Unnamed: 0, gender, discrete_emotion_annotation_phase, age, discrete_emotion_collection_phase, target, manual_transcription, path are not expected by `Wav2Vec2ForSpeechClassification.forward`,  you can safely ignore this message.\n",
      "***** Running Evaluation *****\n",
      "  Num examples = 202\n",
      "  Batch size = 2\n",
      "Saving model checkpoint to models/facebook_wav2vec2-large-slavic-voxpopuli-v2_emotion_15epochs_/checkpoint-528\n",
      "Configuration saved in models/facebook_wav2vec2-large-slavic-voxpopuli-v2_emotion_15epochs_/checkpoint-528/config.json\n",
      "Model weights saved in models/facebook_wav2vec2-large-slavic-voxpopuli-v2_emotion_15epochs_/checkpoint-528/pytorch_model.bin\n",
      "Feature extractor saved in models/facebook_wav2vec2-large-slavic-voxpopuli-v2_emotion_15epochs_/checkpoint-528/preprocessor_config.json\n",
      "Deleting older checkpoint [models/facebook_wav2vec2-large-slavic-voxpopuli-v2_emotion_15epochs_/checkpoint-352] due to args.save_total_limit\n",
      "The following columns in the evaluation set don't have a corresponding argument in `Wav2Vec2ForSpeechClassification.forward` and have been ignored: utterance_id, expression, arousal_annotation_phase, split, valence_annotation_phase, speaker_id, Unnamed: 0, gender, discrete_emotion_annotation_phase, age, discrete_emotion_collection_phase, target, manual_transcription, path. If utterance_id, expression, arousal_annotation_phase, split, valence_annotation_phase, speaker_id, Unnamed: 0, gender, discrete_emotion_annotation_phase, age, discrete_emotion_collection_phase, target, manual_transcription, path are not expected by `Wav2Vec2ForSpeechClassification.forward`,  you can safely ignore this message.\n",
      "***** Running Evaluation *****\n",
      "  Num examples = 202\n",
      "  Batch size = 2\n",
      "Saving model checkpoint to models/facebook_wav2vec2-large-slavic-voxpopuli-v2_emotion_15epochs_/checkpoint-704\n",
      "Configuration saved in models/facebook_wav2vec2-large-slavic-voxpopuli-v2_emotion_15epochs_/checkpoint-704/config.json\n",
      "Model weights saved in models/facebook_wav2vec2-large-slavic-voxpopuli-v2_emotion_15epochs_/checkpoint-704/pytorch_model.bin\n",
      "Feature extractor saved in models/facebook_wav2vec2-large-slavic-voxpopuli-v2_emotion_15epochs_/checkpoint-704/preprocessor_config.json\n",
      "Deleting older checkpoint [models/facebook_wav2vec2-large-slavic-voxpopuli-v2_emotion_15epochs_/checkpoint-528] due to args.save_total_limit\n",
      "The following columns in the evaluation set don't have a corresponding argument in `Wav2Vec2ForSpeechClassification.forward` and have been ignored: utterance_id, expression, arousal_annotation_phase, split, valence_annotation_phase, speaker_id, Unnamed: 0, gender, discrete_emotion_annotation_phase, age, discrete_emotion_collection_phase, target, manual_transcription, path. If utterance_id, expression, arousal_annotation_phase, split, valence_annotation_phase, speaker_id, Unnamed: 0, gender, discrete_emotion_annotation_phase, age, discrete_emotion_collection_phase, target, manual_transcription, path are not expected by `Wav2Vec2ForSpeechClassification.forward`,  you can safely ignore this message.\n",
      "***** Running Evaluation *****\n",
      "  Num examples = 202\n",
      "  Batch size = 2\n",
      "Saving model checkpoint to models/facebook_wav2vec2-large-slavic-voxpopuli-v2_emotion_15epochs_/checkpoint-880\n",
      "Configuration saved in models/facebook_wav2vec2-large-slavic-voxpopuli-v2_emotion_15epochs_/checkpoint-880/config.json\n",
      "Model weights saved in models/facebook_wav2vec2-large-slavic-voxpopuli-v2_emotion_15epochs_/checkpoint-880/pytorch_model.bin\n",
      "Feature extractor saved in models/facebook_wav2vec2-large-slavic-voxpopuli-v2_emotion_15epochs_/checkpoint-880/preprocessor_config.json\n",
      "Deleting older checkpoint [models/facebook_wav2vec2-large-slavic-voxpopuli-v2_emotion_15epochs_/checkpoint-704] due to args.save_total_limit\n",
      "The following columns in the evaluation set don't have a corresponding argument in `Wav2Vec2ForSpeechClassification.forward` and have been ignored: utterance_id, expression, arousal_annotation_phase, split, valence_annotation_phase, speaker_id, Unnamed: 0, gender, discrete_emotion_annotation_phase, age, discrete_emotion_collection_phase, target, manual_transcription, path. If utterance_id, expression, arousal_annotation_phase, split, valence_annotation_phase, speaker_id, Unnamed: 0, gender, discrete_emotion_annotation_phase, age, discrete_emotion_collection_phase, target, manual_transcription, path are not expected by `Wav2Vec2ForSpeechClassification.forward`,  you can safely ignore this message.\n",
      "***** Running Evaluation *****\n",
      "  Num examples = 202\n",
      "  Batch size = 2\n",
      "Saving model checkpoint to models/facebook_wav2vec2-large-slavic-voxpopuli-v2_emotion_15epochs_/checkpoint-1056\n",
      "Configuration saved in models/facebook_wav2vec2-large-slavic-voxpopuli-v2_emotion_15epochs_/checkpoint-1056/config.json\n",
      "Model weights saved in models/facebook_wav2vec2-large-slavic-voxpopuli-v2_emotion_15epochs_/checkpoint-1056/pytorch_model.bin\n",
      "Feature extractor saved in models/facebook_wav2vec2-large-slavic-voxpopuli-v2_emotion_15epochs_/checkpoint-1056/preprocessor_config.json\n",
      "Deleting older checkpoint [models/facebook_wav2vec2-large-slavic-voxpopuli-v2_emotion_15epochs_/checkpoint-880] due to args.save_total_limit\n",
      "The following columns in the evaluation set don't have a corresponding argument in `Wav2Vec2ForSpeechClassification.forward` and have been ignored: utterance_id, expression, arousal_annotation_phase, split, valence_annotation_phase, speaker_id, Unnamed: 0, gender, discrete_emotion_annotation_phase, age, discrete_emotion_collection_phase, target, manual_transcription, path. If utterance_id, expression, arousal_annotation_phase, split, valence_annotation_phase, speaker_id, Unnamed: 0, gender, discrete_emotion_annotation_phase, age, discrete_emotion_collection_phase, target, manual_transcription, path are not expected by `Wav2Vec2ForSpeechClassification.forward`,  you can safely ignore this message.\n",
      "***** Running Evaluation *****\n",
      "  Num examples = 202\n",
      "  Batch size = 2\n",
      "Saving model checkpoint to models/facebook_wav2vec2-large-slavic-voxpopuli-v2_emotion_15epochs_/checkpoint-1232\n",
      "Configuration saved in models/facebook_wav2vec2-large-slavic-voxpopuli-v2_emotion_15epochs_/checkpoint-1232/config.json\n",
      "Model weights saved in models/facebook_wav2vec2-large-slavic-voxpopuli-v2_emotion_15epochs_/checkpoint-1232/pytorch_model.bin\n",
      "Feature extractor saved in models/facebook_wav2vec2-large-slavic-voxpopuli-v2_emotion_15epochs_/checkpoint-1232/preprocessor_config.json\n",
      "Deleting older checkpoint [models/facebook_wav2vec2-large-slavic-voxpopuli-v2_emotion_15epochs_/checkpoint-1056] due to args.save_total_limit\n",
      "The following columns in the evaluation set don't have a corresponding argument in `Wav2Vec2ForSpeechClassification.forward` and have been ignored: utterance_id, expression, arousal_annotation_phase, split, valence_annotation_phase, speaker_id, Unnamed: 0, gender, discrete_emotion_annotation_phase, age, discrete_emotion_collection_phase, target, manual_transcription, path. If utterance_id, expression, arousal_annotation_phase, split, valence_annotation_phase, speaker_id, Unnamed: 0, gender, discrete_emotion_annotation_phase, age, discrete_emotion_collection_phase, target, manual_transcription, path are not expected by `Wav2Vec2ForSpeechClassification.forward`,  you can safely ignore this message.\n",
      "***** Running Evaluation *****\n",
      "  Num examples = 202\n",
      "  Batch size = 2\n",
      "Saving model checkpoint to models/facebook_wav2vec2-large-slavic-voxpopuli-v2_emotion_15epochs_/checkpoint-1408\n",
      "Configuration saved in models/facebook_wav2vec2-large-slavic-voxpopuli-v2_emotion_15epochs_/checkpoint-1408/config.json\n",
      "Model weights saved in models/facebook_wav2vec2-large-slavic-voxpopuli-v2_emotion_15epochs_/checkpoint-1408/pytorch_model.bin\n",
      "Feature extractor saved in models/facebook_wav2vec2-large-slavic-voxpopuli-v2_emotion_15epochs_/checkpoint-1408/preprocessor_config.json\n",
      "Deleting older checkpoint [models/facebook_wav2vec2-large-slavic-voxpopuli-v2_emotion_15epochs_/checkpoint-1232] due to args.save_total_limit\n",
      "The following columns in the evaluation set don't have a corresponding argument in `Wav2Vec2ForSpeechClassification.forward` and have been ignored: utterance_id, expression, arousal_annotation_phase, split, valence_annotation_phase, speaker_id, Unnamed: 0, gender, discrete_emotion_annotation_phase, age, discrete_emotion_collection_phase, target, manual_transcription, path. If utterance_id, expression, arousal_annotation_phase, split, valence_annotation_phase, speaker_id, Unnamed: 0, gender, discrete_emotion_annotation_phase, age, discrete_emotion_collection_phase, target, manual_transcription, path are not expected by `Wav2Vec2ForSpeechClassification.forward`,  you can safely ignore this message.\n",
      "***** Running Evaluation *****\n",
      "  Num examples = 202\n",
      "  Batch size = 2\n",
      "Saving model checkpoint to models/facebook_wav2vec2-large-slavic-voxpopuli-v2_emotion_15epochs_/checkpoint-1584\n",
      "Configuration saved in models/facebook_wav2vec2-large-slavic-voxpopuli-v2_emotion_15epochs_/checkpoint-1584/config.json\n",
      "Model weights saved in models/facebook_wav2vec2-large-slavic-voxpopuli-v2_emotion_15epochs_/checkpoint-1584/pytorch_model.bin\n",
      "Feature extractor saved in models/facebook_wav2vec2-large-slavic-voxpopuli-v2_emotion_15epochs_/checkpoint-1584/preprocessor_config.json\n",
      "Deleting older checkpoint [models/facebook_wav2vec2-large-slavic-voxpopuli-v2_emotion_15epochs_/checkpoint-1408] due to args.save_total_limit\n",
      "The following columns in the evaluation set don't have a corresponding argument in `Wav2Vec2ForSpeechClassification.forward` and have been ignored: utterance_id, expression, arousal_annotation_phase, split, valence_annotation_phase, speaker_id, Unnamed: 0, gender, discrete_emotion_annotation_phase, age, discrete_emotion_collection_phase, target, manual_transcription, path. If utterance_id, expression, arousal_annotation_phase, split, valence_annotation_phase, speaker_id, Unnamed: 0, gender, discrete_emotion_annotation_phase, age, discrete_emotion_collection_phase, target, manual_transcription, path are not expected by `Wav2Vec2ForSpeechClassification.forward`,  you can safely ignore this message.\n",
      "***** Running Evaluation *****\n",
      "  Num examples = 202\n",
      "  Batch size = 2\n",
      "Saving model checkpoint to models/facebook_wav2vec2-large-slavic-voxpopuli-v2_emotion_15epochs_/checkpoint-1760\n",
      "Configuration saved in models/facebook_wav2vec2-large-slavic-voxpopuli-v2_emotion_15epochs_/checkpoint-1760/config.json\n",
      "Model weights saved in models/facebook_wav2vec2-large-slavic-voxpopuli-v2_emotion_15epochs_/checkpoint-1760/pytorch_model.bin\n",
      "Feature extractor saved in models/facebook_wav2vec2-large-slavic-voxpopuli-v2_emotion_15epochs_/checkpoint-1760/preprocessor_config.json\n",
      "Deleting older checkpoint [models/facebook_wav2vec2-large-slavic-voxpopuli-v2_emotion_15epochs_/checkpoint-1584] due to args.save_total_limit\n",
      "The following columns in the evaluation set don't have a corresponding argument in `Wav2Vec2ForSpeechClassification.forward` and have been ignored: utterance_id, expression, arousal_annotation_phase, split, valence_annotation_phase, speaker_id, Unnamed: 0, gender, discrete_emotion_annotation_phase, age, discrete_emotion_collection_phase, target, manual_transcription, path. If utterance_id, expression, arousal_annotation_phase, split, valence_annotation_phase, speaker_id, Unnamed: 0, gender, discrete_emotion_annotation_phase, age, discrete_emotion_collection_phase, target, manual_transcription, path are not expected by `Wav2Vec2ForSpeechClassification.forward`,  you can safely ignore this message.\n",
      "***** Running Evaluation *****\n",
      "  Num examples = 202\n",
      "  Batch size = 2\n",
      "Saving model checkpoint to models/facebook_wav2vec2-large-slavic-voxpopuli-v2_emotion_15epochs_/checkpoint-1936\n",
      "Configuration saved in models/facebook_wav2vec2-large-slavic-voxpopuli-v2_emotion_15epochs_/checkpoint-1936/config.json\n",
      "Model weights saved in models/facebook_wav2vec2-large-slavic-voxpopuli-v2_emotion_15epochs_/checkpoint-1936/pytorch_model.bin\n",
      "Feature extractor saved in models/facebook_wav2vec2-large-slavic-voxpopuli-v2_emotion_15epochs_/checkpoint-1936/preprocessor_config.json\n",
      "Deleting older checkpoint [models/facebook_wav2vec2-large-slavic-voxpopuli-v2_emotion_15epochs_/checkpoint-1760] due to args.save_total_limit\n",
      "The following columns in the evaluation set don't have a corresponding argument in `Wav2Vec2ForSpeechClassification.forward` and have been ignored: utterance_id, expression, arousal_annotation_phase, split, valence_annotation_phase, speaker_id, Unnamed: 0, gender, discrete_emotion_annotation_phase, age, discrete_emotion_collection_phase, target, manual_transcription, path. If utterance_id, expression, arousal_annotation_phase, split, valence_annotation_phase, speaker_id, Unnamed: 0, gender, discrete_emotion_annotation_phase, age, discrete_emotion_collection_phase, target, manual_transcription, path are not expected by `Wav2Vec2ForSpeechClassification.forward`,  you can safely ignore this message.\n",
      "***** Running Evaluation *****\n",
      "  Num examples = 202\n",
      "  Batch size = 2\n",
      "Saving model checkpoint to models/facebook_wav2vec2-large-slavic-voxpopuli-v2_emotion_15epochs_/checkpoint-2112\n",
      "Configuration saved in models/facebook_wav2vec2-large-slavic-voxpopuli-v2_emotion_15epochs_/checkpoint-2112/config.json\n",
      "Model weights saved in models/facebook_wav2vec2-large-slavic-voxpopuli-v2_emotion_15epochs_/checkpoint-2112/pytorch_model.bin\n",
      "Feature extractor saved in models/facebook_wav2vec2-large-slavic-voxpopuli-v2_emotion_15epochs_/checkpoint-2112/preprocessor_config.json\n",
      "Deleting older checkpoint [models/facebook_wav2vec2-large-slavic-voxpopuli-v2_emotion_15epochs_/checkpoint-1936] due to args.save_total_limit\n",
      "The following columns in the evaluation set don't have a corresponding argument in `Wav2Vec2ForSpeechClassification.forward` and have been ignored: utterance_id, expression, arousal_annotation_phase, split, valence_annotation_phase, speaker_id, Unnamed: 0, gender, discrete_emotion_annotation_phase, age, discrete_emotion_collection_phase, target, manual_transcription, path. If utterance_id, expression, arousal_annotation_phase, split, valence_annotation_phase, speaker_id, Unnamed: 0, gender, discrete_emotion_annotation_phase, age, discrete_emotion_collection_phase, target, manual_transcription, path are not expected by `Wav2Vec2ForSpeechClassification.forward`,  you can safely ignore this message.\n",
      "***** Running Evaluation *****\n",
      "  Num examples = 202\n",
      "  Batch size = 2\n",
      "Saving model checkpoint to models/facebook_wav2vec2-large-slavic-voxpopuli-v2_emotion_15epochs_/checkpoint-2288\n",
      "Configuration saved in models/facebook_wav2vec2-large-slavic-voxpopuli-v2_emotion_15epochs_/checkpoint-2288/config.json\n",
      "Model weights saved in models/facebook_wav2vec2-large-slavic-voxpopuli-v2_emotion_15epochs_/checkpoint-2288/pytorch_model.bin\n",
      "Feature extractor saved in models/facebook_wav2vec2-large-slavic-voxpopuli-v2_emotion_15epochs_/checkpoint-2288/preprocessor_config.json\n",
      "Deleting older checkpoint [models/facebook_wav2vec2-large-slavic-voxpopuli-v2_emotion_15epochs_/checkpoint-2112] due to args.save_total_limit\n",
      "The following columns in the evaluation set don't have a corresponding argument in `Wav2Vec2ForSpeechClassification.forward` and have been ignored: utterance_id, expression, arousal_annotation_phase, split, valence_annotation_phase, speaker_id, Unnamed: 0, gender, discrete_emotion_annotation_phase, age, discrete_emotion_collection_phase, target, manual_transcription, path. If utterance_id, expression, arousal_annotation_phase, split, valence_annotation_phase, speaker_id, Unnamed: 0, gender, discrete_emotion_annotation_phase, age, discrete_emotion_collection_phase, target, manual_transcription, path are not expected by `Wav2Vec2ForSpeechClassification.forward`,  you can safely ignore this message.\n",
      "***** Running Evaluation *****\n",
      "  Num examples = 202\n",
      "  Batch size = 2\n",
      "Saving model checkpoint to models/facebook_wav2vec2-large-slavic-voxpopuli-v2_emotion_15epochs_/checkpoint-2464\n",
      "Configuration saved in models/facebook_wav2vec2-large-slavic-voxpopuli-v2_emotion_15epochs_/checkpoint-2464/config.json\n",
      "Model weights saved in models/facebook_wav2vec2-large-slavic-voxpopuli-v2_emotion_15epochs_/checkpoint-2464/pytorch_model.bin\n",
      "Feature extractor saved in models/facebook_wav2vec2-large-slavic-voxpopuli-v2_emotion_15epochs_/checkpoint-2464/preprocessor_config.json\n",
      "Deleting older checkpoint [models/facebook_wav2vec2-large-slavic-voxpopuli-v2_emotion_15epochs_/checkpoint-2288] due to args.save_total_limit\n",
      "The following columns in the evaluation set don't have a corresponding argument in `Wav2Vec2ForSpeechClassification.forward` and have been ignored: utterance_id, expression, arousal_annotation_phase, split, valence_annotation_phase, speaker_id, Unnamed: 0, gender, discrete_emotion_annotation_phase, age, discrete_emotion_collection_phase, target, manual_transcription, path. If utterance_id, expression, arousal_annotation_phase, split, valence_annotation_phase, speaker_id, Unnamed: 0, gender, discrete_emotion_annotation_phase, age, discrete_emotion_collection_phase, target, manual_transcription, path are not expected by `Wav2Vec2ForSpeechClassification.forward`,  you can safely ignore this message.\n",
      "***** Running Evaluation *****\n",
      "  Num examples = 202\n",
      "  Batch size = 2\n",
      "Saving model checkpoint to models/facebook_wav2vec2-large-slavic-voxpopuli-v2_emotion_15epochs_/checkpoint-2640\n",
      "Configuration saved in models/facebook_wav2vec2-large-slavic-voxpopuli-v2_emotion_15epochs_/checkpoint-2640/config.json\n",
      "Model weights saved in models/facebook_wav2vec2-large-slavic-voxpopuli-v2_emotion_15epochs_/checkpoint-2640/pytorch_model.bin\n",
      "Feature extractor saved in models/facebook_wav2vec2-large-slavic-voxpopuli-v2_emotion_15epochs_/checkpoint-2640/preprocessor_config.json\n",
      "Deleting older checkpoint [models/facebook_wav2vec2-large-slavic-voxpopuli-v2_emotion_15epochs_/checkpoint-2464] due to args.save_total_limit\n",
      "\n",
      "\n",
      "Training completed. Do not forget to share your model on huggingface.co/models =)\n",
      "\n",
      "\n"
     ]
    },
    {
     "data": {
      "text/plain": [
       "'models/facebook_wav2vec2-large-slavic-voxpopuli-v2_emotion_15epochs_'"
      ]
     },
     "execution_count": 1,
     "metadata": {},
     "output_type": "execute_result"
    }
   ],
   "source": [
    "train_config = dict(\n",
    "    model_name_or_path = \"facebook/wav2vec2-large-slavic-voxpopuli-v2\",\n",
    "    TASK = \"emotion_15epochs\",\n",
    "    NUM_EPOCH = 15,\n",
    "    output_column = \"target\",\n",
    "    input_column = \"path\",\n",
    "    data_files = {\n",
    "        \"train\": \"001_train.csv\",\n",
    "        \"validation\": \"001_dev.csv\",\n",
    "    },\n",
    "   # clip_seconds = -1\n",
    ")\n",
    "\n",
    "from utils import train_model, eval_model\n",
    "\n",
    "train_model(train_config)"
   ]
  },
  {
   "cell_type": "code",
   "execution_count": null,
   "metadata": {},
   "outputs": [],
   "source": []
  }
 ],
 "metadata": {
  "kernelspec": {
   "display_name": "Python 3.8.3 ('base')",
   "language": "python",
   "name": "python3"
  },
  "language_info": {
   "codemirror_mode": {
    "name": "ipython",
    "version": 3
   },
   "file_extension": ".py",
   "mimetype": "text/x-python",
   "name": "python",
   "nbconvert_exporter": "python",
   "pygments_lexer": "ipython3",
   "version": "3.8.3"
  },
  "orig_nbformat": 4,
  "vscode": {
   "interpreter": {
    "hash": "7f6f5766036ee03d059e365a942add07f79c17033585e9357ee8157d52fe6bb9"
   }
  }
 },
 "nbformat": 4,
 "nbformat_minor": 2
}
